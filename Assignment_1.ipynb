{
  "nbformat": 4,
  "nbformat_minor": 0,
  "metadata": {
    "colab": {
      "name": "Assignment-1.ipynb",
      "provenance": [],
      "collapsed_sections": [],
      "authorship_tag": "ABX9TyNL4iIkNi1EBDD/i/NYuqTb",
      "include_colab_link": true
    },
    "kernelspec": {
      "name": "python3",
      "display_name": "Python 3"
    }
  },
  "cells": [
    {
      "cell_type": "markdown",
      "metadata": {
        "id": "view-in-github",
        "colab_type": "text"
      },
      "source": [
        "<a href=\"https://colab.research.google.com/github/sambit-dev/amplifyapp/blob/master/Assignment_1.ipynb\" target=\"_parent\"><img src=\"https://colab.research.google.com/assets/colab-badge.svg\" alt=\"Open In Colab\"/></a>"
      ]
    },
    {
      "cell_type": "code",
      "metadata": {
        "id": "t3SvhwvYwj5P",
        "colab_type": "code",
        "outputId": "6c085af6-1a08-41e6-bbd8-f5e757a24c6a",
        "colab": {
          "base_uri": "https://localhost:8080/",
          "height": 34
        }
      },
      "source": [
        "l1=[1,2,3,4,5,6,3,2,1]\n",
        "l2=[]\n",
        "for i in range(0,len(l1)):\n",
        "  for j in range((i+1),len(l1)):\n",
        "    if l1[i]==l1[j]:\n",
        "      l2.append(l1[i])\n",
        "\n",
        "print(l2)\n",
        "\n"
      ],
      "execution_count": 0,
      "outputs": [
        {
          "output_type": "stream",
          "text": [
            "[1, 2, 3]\n"
          ],
          "name": "stdout"
        }
      ]
    },
    {
      "cell_type": "code",
      "metadata": {
        "id": "AcXHR6QHyKHR",
        "colab_type": "code",
        "outputId": "83cc81c7-364b-40ef-eab6-31b87ad383e2",
        "colab": {
          "base_uri": "https://localhost:8080/",
          "height": 34
        }
      },
      "source": [
        "str='aabbdeeefgggh'\n",
        "str1=''\n",
        "l2=[]\n",
        "for i in range(0,len(str)):\n",
        "  for j in range((i+1),(len(str)-1)):\n",
        "    if (str[i]==str[j]) and (str[i]==str[j+1]):\n",
        "      str1=str[i:i+3]\n",
        "      l2.append(str1) \n",
        "    elif (str[i]==str[j]) and (str[i]!=str[j+1]):\n",
        "      str1=str[i:i+2]\n",
        "      l2.append(str1) \n",
        "    else:\n",
        "      continue\n",
        "\n",
        "print(l2)"
      ],
      "execution_count": 0,
      "outputs": [
        {
          "output_type": "stream",
          "text": [
            "['aa', 'bb', 'eee', 'ee', 'ee', 'ggg', 'gg', 'gg']\n"
          ],
          "name": "stdout"
        }
      ]
    },
    {
      "cell_type": "code",
      "metadata": {
        "id": "eO2xGfTGNRTB",
        "colab_type": "code",
        "colab": {
          "base_uri": "https://localhost:8080/",
          "height": 231
        },
        "outputId": "e7bd31cf-577e-4823-ae2b-17e8031987ae"
      },
      "source": [
        "str='aabbdeeefgggh'\n",
        "dict1={}\n",
        "for i in range(len(str)-1):\n",
        "  if (str[i]==str[i+1]):\n",
        "    if str[i] in dict1:\n",
        "      dict1[str[i]]=dict1[str[i]+str[i]]\n",
        "    else:\n",
        "      dict1[str[i]]=str[i]+str[i+1]\n",
        "\n",
        "print(dict1.values())"
      ],
      "execution_count": 4,
      "outputs": [
        {
          "output_type": "error",
          "ename": "TypeError",
          "evalue": "ignored",
          "traceback": [
            "\u001b[0;31m---------------------------------------------------------------------------\u001b[0m",
            "\u001b[0;31mTypeError\u001b[0m                                 Traceback (most recent call last)",
            "\u001b[0;32m<ipython-input-4-0743386b6570>\u001b[0m in \u001b[0;36m<module>\u001b[0;34m()\u001b[0m\n\u001b[1;32m      4\u001b[0m   \u001b[0;32mif\u001b[0m \u001b[0;34m(\u001b[0m\u001b[0mstr\u001b[0m\u001b[0;34m[\u001b[0m\u001b[0mi\u001b[0m\u001b[0;34m]\u001b[0m\u001b[0;34m==\u001b[0m\u001b[0mstr\u001b[0m\u001b[0;34m[\u001b[0m\u001b[0mi\u001b[0m\u001b[0;34m+\u001b[0m\u001b[0;36m1\u001b[0m\u001b[0;34m]\u001b[0m\u001b[0;34m)\u001b[0m\u001b[0;34m:\u001b[0m\u001b[0;34m\u001b[0m\u001b[0;34m\u001b[0m\u001b[0m\n\u001b[1;32m      5\u001b[0m     \u001b[0;32mif\u001b[0m \u001b[0mstr\u001b[0m\u001b[0;34m[\u001b[0m\u001b[0mi\u001b[0m\u001b[0;34m]\u001b[0m \u001b[0;32min\u001b[0m \u001b[0mdict1\u001b[0m\u001b[0;34m:\u001b[0m\u001b[0;34m\u001b[0m\u001b[0;34m\u001b[0m\u001b[0m\n\u001b[0;32m----> 6\u001b[0;31m       \u001b[0mdict1\u001b[0m\u001b[0;34m[\u001b[0m\u001b[0mstr\u001b[0m\u001b[0;34m[\u001b[0m\u001b[0mi\u001b[0m\u001b[0;34m]\u001b[0m\u001b[0;34m]\u001b[0m\u001b[0;34m=\u001b[0m\u001b[0mdict1\u001b[0m\u001b[0;34m(\u001b[0m\u001b[0mstr\u001b[0m\u001b[0;34m[\u001b[0m\u001b[0mi\u001b[0m\u001b[0;34m]\u001b[0m\u001b[0;34m+\u001b[0m\u001b[0mstr\u001b[0m\u001b[0;34m[\u001b[0m\u001b[0mi\u001b[0m\u001b[0;34m]\u001b[0m\u001b[0;34m)\u001b[0m\u001b[0;34m\u001b[0m\u001b[0;34m\u001b[0m\u001b[0m\n\u001b[0m\u001b[1;32m      7\u001b[0m     \u001b[0;32melse\u001b[0m\u001b[0;34m:\u001b[0m\u001b[0;34m\u001b[0m\u001b[0;34m\u001b[0m\u001b[0m\n\u001b[1;32m      8\u001b[0m       \u001b[0mdict1\u001b[0m\u001b[0;34m[\u001b[0m\u001b[0mstr\u001b[0m\u001b[0;34m[\u001b[0m\u001b[0mi\u001b[0m\u001b[0;34m]\u001b[0m\u001b[0;34m]\u001b[0m\u001b[0;34m=\u001b[0m\u001b[0mstr\u001b[0m\u001b[0;34m[\u001b[0m\u001b[0mi\u001b[0m\u001b[0;34m]\u001b[0m\u001b[0;34m+\u001b[0m\u001b[0mstr\u001b[0m\u001b[0;34m[\u001b[0m\u001b[0mi\u001b[0m\u001b[0;34m+\u001b[0m\u001b[0;36m1\u001b[0m\u001b[0;34m]\u001b[0m\u001b[0;34m\u001b[0m\u001b[0;34m\u001b[0m\u001b[0m\n",
            "\u001b[0;31mTypeError\u001b[0m: 'dict' object is not callable"
          ]
        }
      ]
    },
    {
      "cell_type": "code",
      "metadata": {
        "id": "ZQPpVnsrvTyj",
        "colab_type": "code",
        "outputId": "d8a36dd7-a2cf-4acb-fdc2-b0699c144729",
        "colab": {
          "base_uri": "https://localhost:8080/",
          "height": 51
        }
      },
      "source": [
        "import collections\n",
        "str='aabbdeeefgggh'\n",
        "l1=list(str)\n",
        "d1=collections.Counter(str)\n",
        "print(l1)\n",
        "print(d1)"
      ],
      "execution_count": 0,
      "outputs": [
        {
          "output_type": "stream",
          "text": [
            "['a', 'a', 'b', 'b', 'd', 'e', 'e', 'e', 'f', 'g', 'g', 'g', 'h']\n",
            "Counter({'e': 3, 'g': 3, 'a': 2, 'b': 2, 'd': 1, 'f': 1, 'h': 1})\n"
          ],
          "name": "stdout"
        }
      ]
    },
    {
      "cell_type": "code",
      "metadata": {
        "id": "TJLNqpLz0nmw",
        "colab_type": "code",
        "outputId": "6b93ffb4-998e-4c1d-e013-26c2c5e4221a",
        "colab": {
          "base_uri": "https://localhost:8080/",
          "height": 34
        }
      },
      "source": [
        "str='RARARRAARB'\n",
        "str1='RAR'\n",
        "str2=''\n",
        "C=0\n",
        "for i in range(0,len(str)):\n",
        "  str2=str[i:(i+3)]\n",
        "  if str1==str2:\n",
        "    C +=1\n",
        "print(C)"
      ],
      "execution_count": 0,
      "outputs": [
        {
          "output_type": "stream",
          "text": [
            "2\n"
          ],
          "name": "stdout"
        }
      ]
    },
    {
      "cell_type": "code",
      "metadata": {
        "id": "Pi4BakLPKXIj",
        "colab_type": "code",
        "colab": {
          "base_uri": "https://localhost:8080/",
          "height": 34
        },
        "outputId": "8a0f1cb1-d990-4feb-f2af-7f987c7d760e"
      },
      "source": [
        "str='RARARRAARB'\n",
        "C=0\n",
        "for i in range(0,len(str)):\n",
        "  for j in range(i+1,len(str)):\n",
        "    for k in range(j+1,len(str)):\n",
        "      if(str[i]+str[j]+str[k]=='RAR'):\n",
        "        C=C+1\n",
        "\n",
        "\n",
        "print(C)"
      ],
      "execution_count": 1,
      "outputs": [
        {
          "output_type": "stream",
          "text": [
            "18\n"
          ],
          "name": "stdout"
        }
      ]
    }
  ]
}