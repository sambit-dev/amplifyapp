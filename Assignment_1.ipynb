{
  "nbformat": 4,
  "nbformat_minor": 0,
  "metadata": {
    "colab": {
      "name": "Assignment-1.ipynb",
      "provenance": [],
      "collapsed_sections": [],
      "authorship_tag": "ABX9TyNXGvceKtuw0fGt+UZW5n5m",
      "include_colab_link": true
    },
    "kernelspec": {
      "name": "python3",
      "display_name": "Python 3"
    }
  },
  "cells": [
    {
      "cell_type": "markdown",
      "metadata": {
        "id": "view-in-github",
        "colab_type": "text"
      },
      "source": [
        "<a href=\"https://colab.research.google.com/github/sambit-dev/amplifyapp/blob/master/Assignment_1.ipynb\" target=\"_parent\"><img src=\"https://colab.research.google.com/assets/colab-badge.svg\" alt=\"Open In Colab\"/></a>"
      ]
    },
    {
      "cell_type": "code",
      "metadata": {
        "id": "t3SvhwvYwj5P",
        "colab_type": "code",
        "colab": {
          "base_uri": "https://localhost:8080/",
          "height": 34
        },
        "outputId": "6c085af6-1a08-41e6-bbd8-f5e757a24c6a"
      },
      "source": [
        "l1=[1,2,3,4,5,6,3,2,1]\n",
        "l2=[]\n",
        "for i in range(0,len(l1)):\n",
        "  for j in range((i+1),len(l1)):\n",
        "    if l1[i]==l1[j]:\n",
        "      l2.append(l1[i])\n",
        "\n",
        "print(l2)\n",
        "\n"
      ],
      "execution_count": 21,
      "outputs": [
        {
          "output_type": "stream",
          "text": [
            "[1, 2, 3]\n"
          ],
          "name": "stdout"
        }
      ]
    },
    {
      "cell_type": "code",
      "metadata": {
        "id": "AcXHR6QHyKHR",
        "colab_type": "code",
        "colab": {
          "base_uri": "https://localhost:8080/",
          "height": 34
        },
        "outputId": "83cc81c7-364b-40ef-eab6-31b87ad383e2"
      },
      "source": [
        "str='aabbdeeefgggh'\n",
        "str1=''\n",
        "l2=[]\n",
        "for i in range(0,len(str)):\n",
        "  for j in range((i+1),(len(str)-1)):\n",
        "    if (str[i]==str[j]) and (str[i]==str[j+1]):\n",
        "      str1=str[i:i+3]\n",
        "      l2.append(str1) \n",
        "    elif (str[i]==str[j]) and (str[i]!=str[j+1]):\n",
        "      str1=str[i:i+2]\n",
        "      l2.append(str1) \n",
        "    else:\n",
        "      continue\n",
        "\n",
        "print(l2)"
      ],
      "execution_count": 22,
      "outputs": [
        {
          "output_type": "stream",
          "text": [
            "['aa', 'bb', 'eee', 'ee', 'ee', 'ggg', 'gg', 'gg']\n"
          ],
          "name": "stdout"
        }
      ]
    },
    {
      "cell_type": "code",
      "metadata": {
        "id": "TJLNqpLz0nmw",
        "colab_type": "code",
        "colab": {
          "base_uri": "https://localhost:8080/",
          "height": 34
        },
        "outputId": "6b93ffb4-998e-4c1d-e013-26c2c5e4221a"
      },
      "source": [
        "str='RARARRAARB'\n",
        "str1='RAR'\n",
        "str2=''\n",
        "C=0\n",
        "for i in range(0,len(str)):\n",
        "  str2=str[i:(i+3)]\n",
        "  if str1==str2:\n",
        "    C +=1\n",
        "print(C)"
      ],
      "execution_count": 23,
      "outputs": [
        {
          "output_type": "stream",
          "text": [
            "2\n"
          ],
          "name": "stdout"
        }
      ]
    }
  ]
}