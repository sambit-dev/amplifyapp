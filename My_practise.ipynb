{
  "nbformat": 4,
  "nbformat_minor": 0,
  "metadata": {
    "colab": {
      "name": "My practise.ipynb",
      "provenance": [],
      "collapsed_sections": [],
      "authorship_tag": "ABX9TyNT/N99wx3IyU/JrR1laFjO",
      "include_colab_link": true
    },
    "kernelspec": {
      "name": "python3",
      "display_name": "Python 3"
    }
  },
  "cells": [
    {
      "cell_type": "markdown",
      "metadata": {
        "id": "view-in-github",
        "colab_type": "text"
      },
      "source": [
        "<a href=\"https://colab.research.google.com/github/sambit-dev/amplifyapp/blob/master/My_practise.ipynb\" target=\"_parent\"><img src=\"https://colab.research.google.com/assets/colab-badge.svg\" alt=\"Open In Colab\"/></a>"
      ]
    },
    {
      "cell_type": "code",
      "metadata": {
        "id": "Ws35AkduI79S",
        "colab_type": "code",
        "outputId": "7169a837-d26c-482f-e8c1-45a47b8e7eec",
        "colab": {
          "base_uri": "https://localhost:8080/",
          "height": 52
        }
      },
      "source": [
        "class employee:\n",
        "  company='Honeywell'  # to make a class and call its values\n",
        "  def __init__(self,name,age):\n",
        "    self.name=name\n",
        "    self.age=age\n",
        "\n",
        "E1=employee(\"sam\",33)\n",
        "E2=employee(\"may\",35)\n",
        "print(E1.__class__.company)\n",
        "print(E1.name, E1.age)\n"
      ],
      "execution_count": 0,
      "outputs": [
        {
          "output_type": "stream",
          "text": [
            "Honeywell\n",
            "sam 33\n"
          ],
          "name": "stdout"
        }
      ]
    },
    {
      "cell_type": "code",
      "metadata": {
        "id": "HDPZQ-FBL8ho",
        "colab_type": "code",
        "outputId": "29ca8eb4-a0af-41a2-e715-6f6879d51d75",
        "colab": {
          "base_uri": "https://localhost:8080/",
          "height": 34
        }
      },
      "source": [
        "class employee:\n",
        "  company='Honeywell'  # Inheritance in class\n",
        "  def __init__(self,name,age):\n",
        "    self.name=name\n",
        "    self.age=age\n",
        "\n",
        "class id1(employee):\n",
        "  \n",
        "  def __init__(self,name,age,id):\n",
        "    self.name=name\n",
        "    self.age=age\n",
        "    self.id=id\n",
        "  \n",
        "\n",
        "E1=id1(\"sam\",33,123)\n",
        "print(E1.name,E1.age,E1.id,E1.company)"
      ],
      "execution_count": 0,
      "outputs": [
        {
          "output_type": "stream",
          "text": [
            "sam 33 123 Honeywell\n"
          ],
          "name": "stdout"
        }
      ]
    },
    {
      "cell_type": "code",
      "metadata": {
        "id": "-ULmAiVISfJf",
        "colab_type": "code",
        "colab": {}
      },
      "source": [
        ""
      ],
      "execution_count": 0,
      "outputs": []
    },
    {
      "cell_type": "code",
      "metadata": {
        "colab_type": "code",
        "outputId": "480742db-1226-4689-b161-136691184bc3",
        "id": "wVzY7FC0SgnF",
        "colab": {
          "base_uri": "https://localhost:8080/",
          "height": 34
        }
      },
      "source": [
        "class employee:\n",
        "  __company='Honeywell'  # encapsulation\n",
        "  def __init__(self,name,age):\n",
        "    self.name=name\n",
        "    self.age=age\n",
        "\n",
        "class id1(employee):\n",
        "  \n",
        "  def __init__(self,name,age,id):\n",
        "    self.name=name\n",
        "    self.age=age\n",
        "    self.id=id\n",
        "  \n",
        "E0=employee('rock',33)\n",
        "E0.__company='abc'\n",
        "E1=id1(\"sam\",33,123)\n",
        "print(E1.name,E1.age,E1.id,E0.__company)"
      ],
      "execution_count": 5,
      "outputs": [
        {
          "output_type": "stream",
          "text": [
            "sam 33 123 abc\n"
          ],
          "name": "stdout"
        }
      ]
    },
    {
      "cell_type": "code",
      "metadata": {
        "id": "X3CxayIBVUBh",
        "colab_type": "code",
        "colab": {
          "base_uri": "https://localhost:8080/",
          "height": 85
        },
        "outputId": "c5cba2d1-d23a-4f42-f9d8-446a9acd2c72"
      },
      "source": [
        "class employee:\n",
        "  __company='Honeywell'  # polymorphism in class\n",
        "  def __init__(self,name,age):\n",
        "    self.name=name\n",
        "    self.age=age\n",
        "\n",
        "class employee1:\n",
        "  \n",
        "  def __init__(self,name,age,id):\n",
        "    self.name=name\n",
        "    self.age=age\n",
        "    self.id=id\n",
        "\n",
        "def abc(emp):\n",
        "  emp.name='sunita'\n",
        "  print(emp.name)\n",
        "  return emp.age\n",
        "\n",
        "e1=employee('sam',33)\n",
        "e2=employee1('ank',32,123)\n",
        "\n",
        "print(abc(e1))\n",
        "print(abc(e2))"
      ],
      "execution_count": 8,
      "outputs": [
        {
          "output_type": "stream",
          "text": [
            "sunita\n",
            "33\n",
            "sunita\n",
            "32\n"
          ],
          "name": "stdout"
        }
      ]
    },
    {
      "cell_type": "code",
      "metadata": {
        "id": "WF1CdFekXBRV",
        "colab_type": "code",
        "colab": {
          "base_uri": "https://localhost:8080/",
          "height": 34
        },
        "outputId": "0cf6958f-f30b-4af3-d51e-20d5f576b1f9"
      },
      "source": [
        "l1=[1,2,3,4,5]\n",
        "def f1(i):\n",
        "    return i*i\n",
        "    \n",
        "l2=list(map(f1,l1))\n",
        "print(l2)"
      ],
      "execution_count": 15,
      "outputs": [
        {
          "output_type": "stream",
          "text": [
            "[1, 4, 9, 16, 25]\n"
          ],
          "name": "stdout"
        }
      ]
    },
    {
      "cell_type": "code",
      "metadata": {
        "id": "3o5XCN4ehYdL",
        "colab_type": "code",
        "colab": {
          "base_uri": "https://localhost:8080/",
          "height": 34
        },
        "outputId": "224fc3bf-f331-4c78-ed92-a2053d9dc31c"
      },
      "source": [
        "l1=[1,2,3,4,5]\n",
        "   \n",
        "l2=list(filter(lambda x:x>3,l1))\n",
        "print(l2)"
      ],
      "execution_count": 17,
      "outputs": [
        {
          "output_type": "stream",
          "text": [
            "[4, 5]\n"
          ],
          "name": "stdout"
        }
      ]
    },
    {
      "cell_type": "code",
      "metadata": {
        "id": "a2r8GZJKh2eX",
        "colab_type": "code",
        "colab": {
          "base_uri": "https://localhost:8080/",
          "height": 34
        },
        "outputId": "c50a0c81-aeb9-407d-a174-2c54046a3a1c"
      },
      "source": [
        "import functools\n",
        "l1=[1,2,3,4,5]\n",
        "   \n",
        "l2=functools.reduce((lambda x,y:x+y),l1)\n",
        "print(l2)"
      ],
      "execution_count": 22,
      "outputs": [
        {
          "output_type": "stream",
          "text": [
            "15\n"
          ],
          "name": "stdout"
        }
      ]
    },
    {
      "cell_type": "code",
      "metadata": {
        "id": "kGJvlE9ds8lj",
        "colab_type": "code",
        "colab": {
          "base_uri": "https://localhost:8080/",
          "height": 231
        },
        "outputId": "4e6818c8-9ef5-4c01-af0a-766a2c0585e4"
      },
      "source": [
        "import pandas as pd\n",
        "import csv\n",
        "with open('https://drive.google.com/open?id=18mueMj4laxx9DMBFi_QjFPyhXgBjhfhK','r') as f:\n",
        "  data=csv.reader(f)\n",
        "  for row in data:\n",
        "    print(row) "
      ],
      "execution_count": 25,
      "outputs": [
        {
          "output_type": "error",
          "ename": "FileNotFoundError",
          "evalue": "ignored",
          "traceback": [
            "\u001b[0;31m---------------------------------------------------------------------------\u001b[0m",
            "\u001b[0;31mFileNotFoundError\u001b[0m                         Traceback (most recent call last)",
            "\u001b[0;32m<ipython-input-25-76100106c16a>\u001b[0m in \u001b[0;36m<module>\u001b[0;34m()\u001b[0m\n\u001b[1;32m      1\u001b[0m \u001b[0;32mimport\u001b[0m \u001b[0mpandas\u001b[0m \u001b[0;32mas\u001b[0m \u001b[0mpd\u001b[0m\u001b[0;34m\u001b[0m\u001b[0;34m\u001b[0m\u001b[0m\n\u001b[1;32m      2\u001b[0m \u001b[0;32mimport\u001b[0m \u001b[0mcsv\u001b[0m\u001b[0;34m\u001b[0m\u001b[0;34m\u001b[0m\u001b[0m\n\u001b[0;32m----> 3\u001b[0;31m \u001b[0;32mwith\u001b[0m \u001b[0mopen\u001b[0m\u001b[0;34m(\u001b[0m\u001b[0;34m'https://drive.google.com/open?id=18mueMj4laxx9DMBFi_QjFPyhXgBjhfhK'\u001b[0m\u001b[0;34m,\u001b[0m\u001b[0;34m'r'\u001b[0m\u001b[0;34m)\u001b[0m \u001b[0;32mas\u001b[0m \u001b[0mf\u001b[0m\u001b[0;34m:\u001b[0m\u001b[0;34m\u001b[0m\u001b[0;34m\u001b[0m\u001b[0m\n\u001b[0m\u001b[1;32m      4\u001b[0m   \u001b[0mdata\u001b[0m\u001b[0;34m=\u001b[0m\u001b[0mcsv\u001b[0m\u001b[0;34m.\u001b[0m\u001b[0mreader\u001b[0m\u001b[0;34m(\u001b[0m\u001b[0mf\u001b[0m\u001b[0;34m)\u001b[0m\u001b[0;34m\u001b[0m\u001b[0;34m\u001b[0m\u001b[0m\n\u001b[1;32m      5\u001b[0m   \u001b[0;32mfor\u001b[0m \u001b[0mrow\u001b[0m \u001b[0;32min\u001b[0m \u001b[0mdata\u001b[0m\u001b[0;34m:\u001b[0m\u001b[0;34m\u001b[0m\u001b[0;34m\u001b[0m\u001b[0m\n",
            "\u001b[0;31mFileNotFoundError\u001b[0m: [Errno 2] No such file or directory: 'https://drive.google.com/open?id=18mueMj4laxx9DMBFi_QjFPyhXgBjhfhK'"
          ]
        }
      ]
    }
  ]
}