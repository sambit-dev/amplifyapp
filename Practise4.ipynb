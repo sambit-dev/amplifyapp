{
  "nbformat": 4,
  "nbformat_minor": 0,
  "metadata": {
    "colab": {
      "name": "Practise4.ipynb",
      "provenance": [],
      "authorship_tag": "ABX9TyOcOouy2EhM0JvhODog+Jd8",
      "include_colab_link": true
    },
    "kernelspec": {
      "name": "python3",
      "display_name": "Python 3"
    }
  },
  "cells": [
    {
      "cell_type": "markdown",
      "metadata": {
        "id": "view-in-github",
        "colab_type": "text"
      },
      "source": [
        "<a href=\"https://colab.research.google.com/github/sambit-dev/amplifyapp/blob/master/Practise4.ipynb\" target=\"_parent\"><img src=\"https://colab.research.google.com/assets/colab-badge.svg\" alt=\"Open In Colab\"/></a>"
      ]
    },
    {
      "cell_type": "code",
      "metadata": {
        "id": "YQ8HvouyWeqO",
        "colab_type": "code",
        "colab": {
          "base_uri": "https://localhost:8080/",
          "height": 34
        },
        "outputId": "dfdb2ebe-636f-44c9-a7d3-7299aef734b5"
      },
      "source": [
        "l1=[1,2,3,4,5]\n",
        "l2=[5,6,7,8,9]\n",
        "l3=[0,0,0,0,0]\n",
        "for i in range(0,len(l1)):\n",
        "  l3[i]=l1[i]+l2[i]\n",
        "\n",
        "print(l3)"
      ],
      "execution_count": 8,
      "outputs": [
        {
          "output_type": "stream",
          "text": [
            "[6, 8, 10, 12, 14]\n"
          ],
          "name": "stdout"
        }
      ]
    },
    {
      "cell_type": "code",
      "metadata": {
        "id": "DQGMXjCYYa_o",
        "colab_type": "code",
        "colab": {
          "base_uri": "https://localhost:8080/",
          "height": 34
        },
        "outputId": "88544e7c-3af6-4375-b5da-6b5e34bd3d7b"
      },
      "source": [
        "l1=[1,2,3,4,5]\n",
        "l2=[5,6,7,8,9]\n",
        "l3=[]\n",
        "for i in range(0,len(l1)):\n",
        "  l3.append(l1[i]+l2[i])\n",
        "\n",
        "print(l3)"
      ],
      "execution_count": 24,
      "outputs": [
        {
          "output_type": "stream",
          "text": [
            "[6, 8, 10, 12, 14]\n"
          ],
          "name": "stdout"
        }
      ]
    },
    {
      "cell_type": "code",
      "metadata": {
        "id": "60UEfyrdYtuS",
        "colab_type": "code",
        "colab": {
          "base_uri": "https://localhost:8080/",
          "height": 51
        },
        "outputId": "660df810-88f6-40de-e98b-2107d27d855e"
      },
      "source": [
        "l1=[1,1,2,2,3,3,4,4,5,5,15]\n",
        "s=set(l1)\n",
        "print(s)\n",
        "l2=list(s)\n",
        "l2.sort()\n",
        "print(l2[-2])"
      ],
      "execution_count": 14,
      "outputs": [
        {
          "output_type": "stream",
          "text": [
            "{1, 2, 3, 4, 5, 15}\n",
            "5\n"
          ],
          "name": "stdout"
        }
      ]
    },
    {
      "cell_type": "code",
      "metadata": {
        "id": "sf4uh9t-aFda",
        "colab_type": "code",
        "colab": {
          "base_uri": "https://localhost:8080/",
          "height": 51
        },
        "outputId": "9b8e0e7c-8d81-4509-8fc3-38d2800ea0d6"
      },
      "source": [
        "l1=[1,1,2,2,3,3,4,4,5,5,15]\n",
        "l1.sort(reverse=True)\n",
        "print(l1)\n",
        "for i in range(0,len(l1)):\n",
        "  if l1[i]!=l1[i-1]:\n",
        "    print(l1[i-1])\n",
        "    break"
      ],
      "execution_count": 21,
      "outputs": [
        {
          "output_type": "stream",
          "text": [
            "[15, 5, 5, 4, 4, 3, 3, 2, 2, 1, 1]\n",
            "1\n"
          ],
          "name": "stdout"
        }
      ]
    },
    {
      "cell_type": "code",
      "metadata": {
        "id": "ThuDj02Fd7HP",
        "colab_type": "code",
        "colab": {
          "base_uri": "https://localhost:8080/",
          "height": 51
        },
        "outputId": "e074361f-bec8-4ca7-f058-609010b850b0"
      },
      "source": [
        "l1=[1,1,2,2,3,3,4,4,5,5,15]\n",
        "print(sorted(list(set(l1))))\n",
        "print(l1)"
      ],
      "execution_count": 26,
      "outputs": [
        {
          "output_type": "stream",
          "text": [
            "[1, 2, 3, 4, 5, 15]\n",
            "[1, 1, 2, 2, 3, 3, 4, 4, 5, 5, 15]\n"
          ],
          "name": "stdout"
        }
      ]
    },
    {
      "cell_type": "code",
      "metadata": {
        "id": "QqvCTkgcbhs3",
        "colab_type": "code",
        "colab": {
          "base_uri": "https://localhost:8080/",
          "height": 51
        },
        "outputId": "fc792b1b-07fe-4456-9516-32433e58c9dc"
      },
      "source": [
        "l1=[1,1,2,2,3,3,4,4,5,5,15]\n",
        "print(sorted(list(set(l1)))[-2])\n",
        "type(l1)"
      ],
      "execution_count": 27,
      "outputs": [
        {
          "output_type": "stream",
          "text": [
            "5\n"
          ],
          "name": "stdout"
        },
        {
          "output_type": "execute_result",
          "data": {
            "text/plain": [
              "list"
            ]
          },
          "metadata": {
            "tags": []
          },
          "execution_count": 27
        }
      ]
    },
    {
      "cell_type": "code",
      "metadata": {
        "id": "hhR3d2J3fYLJ",
        "colab_type": "code",
        "colab": {
          "base_uri": "https://localhost:8080/",
          "height": 34
        },
        "outputId": "a76a987c-b7a9-4f17-9116-fc829fe1d1ce"
      },
      "source": [
        "a={}\n",
        "type(a)# to create an empty set write a=set()"
      ],
      "execution_count": 30,
      "outputs": [
        {
          "output_type": "execute_result",
          "data": {
            "text/plain": [
              "dict"
            ]
          },
          "metadata": {
            "tags": []
          },
          "execution_count": 30
        }
      ]
    },
    {
      "cell_type": "code",
      "metadata": {
        "id": "9g8FgVbrgEIH",
        "colab_type": "code",
        "colab": {
          "base_uri": "https://localhost:8080/",
          "height": 34
        },
        "outputId": "6da87200-8261-4db0-f516-6a3b402397ac"
      },
      "source": [
        "d1={'name':'sambit','age':33}\n",
        "d1['name']='sam'\n",
        "print(d1['name'])"
      ],
      "execution_count": 34,
      "outputs": [
        {
          "output_type": "stream",
          "text": [
            "sam\n"
          ],
          "name": "stdout"
        }
      ]
    },
    {
      "cell_type": "code",
      "metadata": {
        "id": "HUUYqotzg6EA",
        "colab_type": "code",
        "colab": {
          "base_uri": "https://localhost:8080/",
          "height": 51
        },
        "outputId": "24693955-022e-4e63-bdfb-4848a9feca9f"
      },
      "source": [
        "d1={(1,2,3):'sambit'}\n",
        "print(d1)\n",
        "d1.get('age',32)\n",
        "print(d1)"
      ],
      "execution_count": 43,
      "outputs": [
        {
          "output_type": "stream",
          "text": [
            "{(1, 2, 3): 'sambit'}\n",
            "{(1, 2, 3): 'sambit'}\n"
          ],
          "name": "stdout"
        }
      ]
    },
    {
      "cell_type": "code",
      "metadata": {
        "id": "BJ--VAa-jn7J",
        "colab_type": "code",
        "colab": {
          "base_uri": "https://localhost:8080/",
          "height": 68
        },
        "outputId": "e3b8d2c6-6551-4c57-e4e0-160ac5e3ec52"
      },
      "source": [
        "d2=dict([('name','sam'),('age',33)])\n",
        "d2['add']='pashan'\n",
        "print(d2)\n",
        "k=d2.popitem()\n",
        "k1=d2.pop('age')\n",
        "print(d2)\n",
        "print(k,k1)"
      ],
      "execution_count": 53,
      "outputs": [
        {
          "output_type": "stream",
          "text": [
            "{'name': 'sam', 'age': 33, 'add': 'pashan'}\n",
            "{'name': 'sam'}\n",
            "('add', 'pashan') 33\n"
          ],
          "name": "stdout"
        }
      ]
    },
    {
      "cell_type": "code",
      "metadata": {
        "id": "iaKPt3kVpgXw",
        "colab_type": "code",
        "colab": {
          "base_uri": "https://localhost:8080/",
          "height": 34
        },
        "outputId": "f0567333-487c-47c3-ac07-589b256e4127"
      },
      "source": [
        "d1={'name': 'sam', 'age': 33, 'add': 'pashan'}\n",
        "d2={'name': 'alok', 'age': 22, 'add': 'aundh','loc':'pune'}\n",
        "d1.update(d2)\n",
        "print(d1)"
      ],
      "execution_count": 71,
      "outputs": [
        {
          "output_type": "stream",
          "text": [
            "{'name': 'alok', 'age': 22, 'add': 'aundh', 'loc': 'pune'}\n"
          ],
          "name": "stdout"
        }
      ]
    },
    {
      "cell_type": "code",
      "metadata": {
        "id": "oSTvJ_9fqZAC",
        "colab_type": "code",
        "colab": {
          "base_uri": "https://localhost:8080/",
          "height": 119
        },
        "outputId": "ce88c09a-bdef-4245-af9c-3daac06f72a5"
      },
      "source": [
        "d1={'name': 'sam', 'age': 33, 'add': 'pashan'}\n",
        "for k in d1.values():\n",
        "  print(k)\n",
        "for k1 in d1.keys():\n",
        "  print(k1,d1[k1])\n"
      ],
      "execution_count": 78,
      "outputs": [
        {
          "output_type": "stream",
          "text": [
            "sam\n",
            "33\n",
            "pashan\n",
            "name sam\n",
            "age 33\n",
            "add pashan\n"
          ],
          "name": "stdout"
        }
      ]
    },
    {
      "cell_type": "code",
      "metadata": {
        "id": "pHfLWkRmmw1V",
        "colab_type": "code",
        "colab": {
          "base_uri": "https://localhost:8080/",
          "height": 68
        },
        "outputId": "ec9569fd-854f-45dd-e08c-5c790a4de6de"
      },
      "source": [
        "lst=['name','age','add']\n",
        "d1=dict.fromkeys(lst,1)\n",
        "print(d1)\n",
        "d1.get('name','sam')\n",
        "k=d1.keys()\n",
        "print(k)\n",
        "print(d1.items())\n",
        "#help(dict)"
      ],
      "execution_count": 73,
      "outputs": [
        {
          "output_type": "stream",
          "text": [
            "{'name': 1, 'age': 1, 'add': 1}\n",
            "dict_keys(['name', 'age', 'add'])\n",
            "dict_items([('name', 1), ('age', 1), ('add', 1)])\n"
          ],
          "name": "stdout"
        }
      ]
    },
    {
      "cell_type": "code",
      "metadata": {
        "id": "aT5COHeIrDbr",
        "colab_type": "code",
        "colab": {
          "base_uri": "https://localhost:8080/",
          "height": 34
        },
        "outputId": "7c076305-1fc5-4504-fd8e-8c9bdeaedd22"
      },
      "source": [
        "d1={'age1':22,'age1':25,'age1':20}\n",
        "for i in d1.keys():\n",
        "  if d1[i]>0:\n",
        "    max1=d1[i]\n",
        "print(max1)\n"
      ],
      "execution_count": 89,
      "outputs": [
        {
          "output_type": "stream",
          "text": [
            "20\n"
          ],
          "name": "stdout"
        }
      ]
    },
    {
      "cell_type": "code",
      "metadata": {
        "id": "7jK-nmOSxrJP",
        "colab_type": "code",
        "colab": {
          "base_uri": "https://localhost:8080/",
          "height": 102
        },
        "outputId": "1c1f6903-fb95-421a-c125-98e597d6dda6"
      },
      "source": [
        "s=\"he is the man\"\n",
        "print(s.upper())\n",
        "print(s.lower())\n",
        "print(s.split())\n",
        "print(len(s))\n",
        "print(s[0:4])"
      ],
      "execution_count": 94,
      "outputs": [
        {
          "output_type": "stream",
          "text": [
            "HE IS THE MAN\n",
            "he is the man\n",
            "['he', 'is', 'the', 'man']\n",
            "13\n",
            "he i\n"
          ],
          "name": "stdout"
        }
      ]
    },
    {
      "cell_type": "code",
      "metadata": {
        "id": "vpwwKqUwz3Eq",
        "colab_type": "code",
        "colab": {
          "base_uri": "https://localhost:8080/",
          "height": 68
        },
        "outputId": "3d5d4e1d-c087-474a-8d3f-a832d4fbed05"
      },
      "source": [
        "a=25.7\n",
        "print(int(a))\n",
        "b=23\n",
        "print(float(b))\n",
        "print(isinstance(b,int))"
      ],
      "execution_count": 98,
      "outputs": [
        {
          "output_type": "stream",
          "text": [
            "25\n",
            "23.0\n",
            "True\n"
          ],
          "name": "stdout"
        }
      ]
    },
    {
      "cell_type": "code",
      "metadata": {
        "id": "4N2VADSHt1Ma",
        "colab_type": "code",
        "colab": {
          "base_uri": "https://localhost:8080/",
          "height": 68
        },
        "outputId": "710cdc1c-e13d-4121-b737-1ded454d8b20"
      },
      "source": [
        "a=25\n",
        "print(bin(a))\n",
        "b=23\n",
        "print(oct(b))\n",
        "print(isinstance(b,int))"
      ],
      "execution_count": 101,
      "outputs": [
        {
          "output_type": "stream",
          "text": [
            "0b11001\n",
            "0o27\n",
            "True\n"
          ],
          "name": "stdout"
        }
      ]
    }
  ]
}