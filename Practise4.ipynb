{
  "nbformat": 4,
  "nbformat_minor": 0,
  "metadata": {
    "colab": {
      "name": "Practise4.ipynb",
      "provenance": [],
      "authorship_tag": "ABX9TyMgs5uqmiaimxDh2JwnPTcG",
      "include_colab_link": true
    },
    "kernelspec": {
      "name": "python3",
      "display_name": "Python 3"
    }
  },
  "cells": [
    {
      "cell_type": "markdown",
      "metadata": {
        "id": "view-in-github",
        "colab_type": "text"
      },
      "source": [
        "<a href=\"https://colab.research.google.com/github/sambit-dev/amplifyapp/blob/master/Practise4.ipynb\" target=\"_parent\"><img src=\"https://colab.research.google.com/assets/colab-badge.svg\" alt=\"Open In Colab\"/></a>"
      ]
    },
    {
      "cell_type": "code",
      "metadata": {
        "id": "YQ8HvouyWeqO",
        "colab_type": "code",
        "colab": {}
      },
      "source": [
        "l1=[1,2,3,4,5]\n",
        "l2=[5,6,7,8,9]r\n",
        "for i in range(0,len(l1))"
      ],
      "execution_count": 0,
      "outputs": []
    },
    {
      "cell_type": "code",
      "metadata": {
        "id": "R_sdb7smk0K9",
        "colab_type": "code",
        "outputId": "d8fae0e7-d8a7-4335-fbe0-e1a8881b17f4",
        "colab": {
          "base_uri": "https://localhost:8080/",
          "height": 51
        }
      },
      "source": [
        "stats = {'a':1000, 'b':3000, 'c': 100}\n",
        "print(max(stats, key=stats.get))\n",
        "print(max(stats.values()))\n",
        "#max(stats, key=stats.get)"
      ],
      "execution_count": 0,
      "outputs": [
        {
          "output_type": "stream",
          "text": [
            "b\n",
            "3000\n"
          ],
          "name": "stdout"
        }
      ]
    },
    {
      "cell_type": "code",
      "metadata": {
        "id": "4R_8LXdKnKoq",
        "colab_type": "code",
        "outputId": "6b14e208-54aa-4062-f119-1aa7787cc507",
        "colab": {
          "base_uri": "https://localhost:8080/",
          "height": 51
        }
      },
      "source": [
        "stats = {'a':1000, 'b':3000, 'c': 100}\n",
        "print(list(sorted(stats.values()))[-2])\n",
        "max(stats.items(), key=lambda k: k[1])\n",
        "#max(stats, key=stats.get)"
      ],
      "execution_count": 0,
      "outputs": [
        {
          "output_type": "stream",
          "text": [
            "1000\n"
          ],
          "name": "stdout"
        },
        {
          "output_type": "execute_result",
          "data": {
            "text/plain": [
              "('b', 3000)"
            ]
          },
          "metadata": {
            "tags": []
          },
          "execution_count": 25
        }
      ]
    },
    {
      "cell_type": "code",
      "metadata": {
        "id": "nuBj2mcNqpqy",
        "colab_type": "code",
        "outputId": "54f3e895-cf19-4907-a465-01579d404b61",
        "colab": {
          "base_uri": "https://localhost:8080/",
          "height": 51
        }
      },
      "source": [
        "s=\"radical technologies\"\n",
        "vow='aeiou'\n",
        "#d1={}\n",
        "count = {}.fromkeys(vow, 0)\n",
        "import collections\n",
        "print(collections.Counter(s))\n",
        "for k in s:\n",
        "  if k in count:\n",
        "    count[k] +=1\n",
        "print(count)"
      ],
      "execution_count": 0,
      "outputs": [
        {
          "output_type": "stream",
          "text": [
            "Counter({'a': 2, 'i': 2, 'c': 2, 'l': 2, 'e': 2, 'o': 2, 'r': 1, 'd': 1, ' ': 1, 't': 1, 'h': 1, 'n': 1, 'g': 1, 's': 1})\n",
            "{'a': 2, 'e': 2, 'i': 2, 'o': 2, 'u': 0}\n"
          ],
          "name": "stdout"
        }
      ]
    },
    {
      "cell_type": "code",
      "metadata": {
        "id": "zPN0D92O2pmP",
        "colab_type": "code",
        "outputId": "4710d38d-c735-4279-e27d-0b1ddf417052",
        "colab": {
          "base_uri": "https://localhost:8080/",
          "height": 197
        }
      },
      "source": [
        "l1=[45,53,23,'sam','ram']\n",
        "l2=[]\n",
        "#max=0\n",
        "for i in range(0,len(l1)):\n",
        "  if isinstance(l1[i],int):\n",
        "    l2.append(l1[i])\n",
        "print(max(l2))\n"
      ],
      "execution_count": 0,
      "outputs": [
        {
          "output_type": "error",
          "ename": "TypeError",
          "evalue": "ignored",
          "traceback": [
            "\u001b[0;31m---------------------------------------------------------------------------\u001b[0m",
            "\u001b[0;31mTypeError\u001b[0m                                 Traceback (most recent call last)",
            "\u001b[0;32m<ipython-input-59-451a5033d4d0>\u001b[0m in \u001b[0;36m<module>\u001b[0;34m()\u001b[0m\n\u001b[1;32m      5\u001b[0m   \u001b[0;32mif\u001b[0m \u001b[0misinstance\u001b[0m\u001b[0;34m(\u001b[0m\u001b[0ml1\u001b[0m\u001b[0;34m[\u001b[0m\u001b[0mi\u001b[0m\u001b[0;34m]\u001b[0m\u001b[0;34m,\u001b[0m\u001b[0mint\u001b[0m\u001b[0;34m)\u001b[0m\u001b[0;34m:\u001b[0m\u001b[0;34m\u001b[0m\u001b[0;34m\u001b[0m\u001b[0m\n\u001b[1;32m      6\u001b[0m     \u001b[0ml2\u001b[0m\u001b[0;34m.\u001b[0m\u001b[0mappend\u001b[0m\u001b[0;34m(\u001b[0m\u001b[0ml1\u001b[0m\u001b[0;34m[\u001b[0m\u001b[0mi\u001b[0m\u001b[0;34m]\u001b[0m\u001b[0;34m)\u001b[0m\u001b[0;34m\u001b[0m\u001b[0;34m\u001b[0m\u001b[0m\n\u001b[0;32m----> 7\u001b[0;31m \u001b[0mprint\u001b[0m\u001b[0;34m(\u001b[0m\u001b[0mmax\u001b[0m\u001b[0;34m(\u001b[0m\u001b[0ml2\u001b[0m\u001b[0;34m)\u001b[0m\u001b[0;34m)\u001b[0m\u001b[0;34m\u001b[0m\u001b[0;34m\u001b[0m\u001b[0m\n\u001b[0m",
            "\u001b[0;31mTypeError\u001b[0m: 'int' object is not callable"
          ]
        }
      ]
    },
    {
      "cell_type": "code",
      "metadata": {
        "id": "HU3kQi_3Pzg3",
        "colab_type": "code",
        "outputId": "40cf3a34-e3ee-4173-a730-ed54c1390541",
        "colab": {
          "base_uri": "https://localhost:8080/",
          "height": 34
        }
      },
      "source": [
        "l1=[1,3,5,4,2,7,9]\n",
        "for i in range(0,len(l1)):\n",
        "  if (l1[i]%2)!=0:\n",
        "    print(l1[i])\n",
        "    break\n",
        "\n"
      ],
      "execution_count": 0,
      "outputs": [
        {
          "output_type": "stream",
          "text": [
            "1\n"
          ],
          "name": "stdout"
        }
      ]
    },
    {
      "cell_type": "code",
      "metadata": {
        "id": "SSkSH2VJSBgQ",
        "colab_type": "code",
        "outputId": "38364c7a-5d42-4e32-f532-e63b9c057007",
        "colab": {
          "base_uri": "https://localhost:8080/",
          "height": 34
        }
      },
      "source": [
        "str='Radical Technologies'\n",
        "dict_dum={}\n",
        "for i in str:\n",
        "  if i in dict_dum:\n",
        "    dict_dum[i]=dict_dum[i]+1\n",
        "  else:\n",
        "    dict_dum[i]=1\n",
        "print(dict_dum)"
      ],
      "execution_count": 0,
      "outputs": [
        {
          "output_type": "stream",
          "text": [
            "{'R': 1, 'a': 2, 'd': 1, 'i': 2, 'c': 2, 'l': 2, ' ': 1, 'T': 1, 'e': 2, 'h': 1, 'n': 1, 'o': 2, 'g': 1, 's': 1}\n"
          ],
          "name": "stdout"
        }
      ]
    },
    {
      "cell_type": "code",
      "metadata": {
        "id": "8s08VZ7cTe1k",
        "colab_type": "code",
        "outputId": "4f69a56f-4549-422b-895c-e48a11c73b3a",
        "colab": {
          "base_uri": "https://localhost:8080/",
          "height": 34
        }
      },
      "source": [
        "s=set('sambit')\n",
        "print(s)"
      ],
      "execution_count": 0,
      "outputs": [
        {
          "output_type": "stream",
          "text": [
            "{'a', 't', 'i', 'b', 's', 'm'}\n"
          ],
          "name": "stdout"
        }
      ]
    },
    {
      "cell_type": "code",
      "metadata": {
        "id": "82Gx5zW8WYpo",
        "colab_type": "code",
        "outputId": "83bfa12d-f3ed-4aa5-a2ea-5ff01a287bad",
        "colab": {
          "base_uri": "https://localhost:8080/",
          "height": 54
        }
      },
      "source": [
        "l1=[]\n",
        "for i in  range(0,100):\n",
        "  if i>5:\n",
        "    l1.append(i)\n",
        "print(l1)\n"
      ],
      "execution_count": 0,
      "outputs": [
        {
          "output_type": "stream",
          "text": [
            "[6, 7, 8, 9, 10, 11, 12, 13, 14, 15, 16, 17, 18, 19, 20, 21, 22, 23, 24, 25, 26, 27, 28, 29, 30, 31, 32, 33, 34, 35, 36, 37, 38, 39, 40, 41, 42, 43, 44, 45, 46, 47, 48, 49, 50, 51, 52, 53, 54, 55, 56, 57, 58, 59, 60, 61, 62, 63, 64, 65, 66, 67, 68, 69, 70, 71, 72, 73, 74, 75, 76, 77, 78, 79, 80, 81, 82, 83, 84, 85, 86, 87, 88, 89, 90, 91, 92, 93, 94, 95, 96, 97, 98, 99]\n"
          ],
          "name": "stdout"
        }
      ]
    },
    {
      "cell_type": "code",
      "metadata": {
        "id": "0hIEr0BTYO0f",
        "colab_type": "code",
        "outputId": "fe3c422f-ed4e-4707-bfcb-0cc34c63c8a7",
        "colab": {
          "base_uri": "https://localhost:8080/",
          "height": 34
        }
      },
      "source": [
        "l1=[1,3,5]\n",
        "l2=[1,2,5,6,7]\n",
        "l3=[]\n",
        "for i in l1:\n",
        "  if i in l2:\n",
        "    continue\n",
        "  else:\n",
        "    l3.append(i)\n",
        "for j in l2:\n",
        "  if j in l1:\n",
        "    continue\n",
        "  else:\n",
        "    l3.append(j)\n",
        "\n",
        "print(l3)\n"
      ],
      "execution_count": 0,
      "outputs": [
        {
          "output_type": "stream",
          "text": [
            "[3, 2, 6, 7]\n"
          ],
          "name": "stdout"
        }
      ]
    },
    {
      "cell_type": "code",
      "metadata": {
        "id": "ZjmnIAwKZiyk",
        "colab_type": "code",
        "outputId": "47cc73c5-67e4-41db-c24c-01c8939ac809",
        "colab": {
          "base_uri": "https://localhost:8080/",
          "height": 85
        }
      },
      "source": [
        "l1=[]\n",
        "str1=''\n",
        "while(str1!='done'):\n",
        "  str1=input()\n",
        "  l1.append(str1)\n",
        "\n",
        "print(l1)\n"
      ],
      "execution_count": 0,
      "outputs": [
        {
          "output_type": "stream",
          "text": [
            "12\n",
            "23\n",
            "done\n",
            "['12', '23', 'done']\n"
          ],
          "name": "stdout"
        }
      ]
    },
    {
      "cell_type": "code",
      "metadata": {
        "id": "CqYr1uAzeXJO",
        "colab_type": "code",
        "colab": {}
      },
      "source": [
        "str1='RARARRRAAB'\n",
        "str2='RAR'\n"
      ],
      "execution_count": 0,
      "outputs": []
    },
    {
      "cell_type": "code",
      "metadata": {
        "id": "dvkLXwXUbixc",
        "colab_type": "code",
        "colab": {}
      },
      "source": [
        ""
      ],
      "execution_count": 0,
      "outputs": []
    },
    {
      "cell_type": "code",
      "metadata": {
        "id": "NJ40EM53LnqH",
        "colab_type": "code",
        "outputId": "a3a38d88-7532-4923-8406-fe219d04a9ea",
        "colab": {
          "base_uri": "https://localhost:8080/",
          "height": 180
        }
      },
      "source": [
        "l1=[45,53,23,'sam','ram']\n",
        "max(l1)"
      ],
      "execution_count": 0,
      "outputs": [
        {
          "output_type": "error",
          "ename": "TypeError",
          "evalue": "ignored",
          "traceback": [
            "\u001b[0;31m---------------------------------------------------------------------------\u001b[0m",
            "\u001b[0;31mTypeError\u001b[0m                                 Traceback (most recent call last)",
            "\u001b[0;32m<ipython-input-39-fd2639cadd2b>\u001b[0m in \u001b[0;36m<module>\u001b[0;34m()\u001b[0m\n\u001b[1;32m      1\u001b[0m \u001b[0ml1\u001b[0m\u001b[0;34m=\u001b[0m\u001b[0;34m[\u001b[0m\u001b[0;36m45\u001b[0m\u001b[0;34m,\u001b[0m\u001b[0;36m53\u001b[0m\u001b[0;34m,\u001b[0m\u001b[0;36m23\u001b[0m\u001b[0;34m,\u001b[0m\u001b[0;34m'sam'\u001b[0m\u001b[0;34m,\u001b[0m\u001b[0;34m'ram'\u001b[0m\u001b[0;34m]\u001b[0m\u001b[0;34m\u001b[0m\u001b[0;34m\u001b[0m\u001b[0m\n\u001b[0;32m----> 2\u001b[0;31m \u001b[0mmax\u001b[0m\u001b[0;34m(\u001b[0m\u001b[0ml1\u001b[0m\u001b[0;34m)\u001b[0m\u001b[0;34m\u001b[0m\u001b[0;34m\u001b[0m\u001b[0m\n\u001b[0m",
            "\u001b[0;31mTypeError\u001b[0m: '>' not supported between instances of 'str' and 'int'"
          ]
        }
      ]
    }
  ]
}