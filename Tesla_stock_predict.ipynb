{
  "nbformat": 4,
  "nbformat_minor": 0,
  "metadata": {
    "colab": {
      "name": "Tesla_stock_predict.ipynb",
      "provenance": [],
      "collapsed_sections": [],
      "include_colab_link": true
    },
    "kernelspec": {
      "name": "python3",
      "display_name": "Python 3"
    }
  },
  "cells": [
    {
      "cell_type": "markdown",
      "metadata": {
        "id": "view-in-github",
        "colab_type": "text"
      },
      "source": [
        "<a href=\"https://colab.research.google.com/github/sambit-dev/amplifyapp/blob/master/Tesla_stock_predict.ipynb\" target=\"_parent\"><img src=\"https://colab.research.google.com/assets/colab-badge.svg\" alt=\"Open In Colab\"/></a>"
      ]
    },
    {
      "cell_type": "code",
      "metadata": {
        "id": "x6ubeqaKsRR3",
        "colab_type": "code",
        "colab": {}
      },
      "source": [
        "import pandas as pd\n",
        "import numpy as np\n",
        "import math\n",
        "from sklearn import preprocessing\n",
        "from sklearn.model_selection import cross_validate\n",
        "from sklearn.model_selection import train_test_split\n",
        "from sklearn.linear_model import LinearRegression"
      ],
      "execution_count": 0,
      "outputs": []
    },
    {
      "cell_type": "code",
      "metadata": {
        "id": "o2wy2KHZI-Rb",
        "colab_type": "code",
        "colab": {}
      },
      "source": [
        "df = pd.read_csv('/content/Tesla.csv')"
      ],
      "execution_count": 0,
      "outputs": []
    },
    {
      "cell_type": "code",
      "metadata": {
        "id": "0eFnvZ-ZJK7_",
        "colab_type": "code",
        "outputId": "5efe1c44-9954-4b7e-8272-d0023780f984",
        "colab": {
          "base_uri": "https://localhost:8080/",
          "height": 297
        }
      },
      "source": [
        "df.describe()"
      ],
      "execution_count": 0,
      "outputs": [
        {
          "output_type": "execute_result",
          "data": {
            "text/html": [
              "<div>\n",
              "<style scoped>\n",
              "    .dataframe tbody tr th:only-of-type {\n",
              "        vertical-align: middle;\n",
              "    }\n",
              "\n",
              "    .dataframe tbody tr th {\n",
              "        vertical-align: top;\n",
              "    }\n",
              "\n",
              "    .dataframe thead th {\n",
              "        text-align: right;\n",
              "    }\n",
              "</style>\n",
              "<table border=\"1\" class=\"dataframe\">\n",
              "  <thead>\n",
              "    <tr style=\"text-align: right;\">\n",
              "      <th></th>\n",
              "      <th>Open</th>\n",
              "      <th>High</th>\n",
              "      <th>Low</th>\n",
              "      <th>Close</th>\n",
              "      <th>Volume</th>\n",
              "      <th>Adj Close</th>\n",
              "    </tr>\n",
              "  </thead>\n",
              "  <tbody>\n",
              "    <tr>\n",
              "      <th>count</th>\n",
              "      <td>1692.000000</td>\n",
              "      <td>1692.000000</td>\n",
              "      <td>1692.000000</td>\n",
              "      <td>1692.000000</td>\n",
              "      <td>1.692000e+03</td>\n",
              "      <td>1692.000000</td>\n",
              "    </tr>\n",
              "    <tr>\n",
              "      <th>mean</th>\n",
              "      <td>132.441572</td>\n",
              "      <td>134.769698</td>\n",
              "      <td>129.996223</td>\n",
              "      <td>132.428658</td>\n",
              "      <td>4.270741e+06</td>\n",
              "      <td>132.428658</td>\n",
              "    </tr>\n",
              "    <tr>\n",
              "      <th>std</th>\n",
              "      <td>94.309923</td>\n",
              "      <td>95.694914</td>\n",
              "      <td>92.855227</td>\n",
              "      <td>94.313187</td>\n",
              "      <td>4.295971e+06</td>\n",
              "      <td>94.313187</td>\n",
              "    </tr>\n",
              "    <tr>\n",
              "      <th>min</th>\n",
              "      <td>16.139999</td>\n",
              "      <td>16.629999</td>\n",
              "      <td>14.980000</td>\n",
              "      <td>15.800000</td>\n",
              "      <td>1.185000e+05</td>\n",
              "      <td>15.800000</td>\n",
              "    </tr>\n",
              "    <tr>\n",
              "      <th>25%</th>\n",
              "      <td>30.000000</td>\n",
              "      <td>30.650000</td>\n",
              "      <td>29.214999</td>\n",
              "      <td>29.884999</td>\n",
              "      <td>1.194350e+06</td>\n",
              "      <td>29.884999</td>\n",
              "    </tr>\n",
              "    <tr>\n",
              "      <th>50%</th>\n",
              "      <td>156.334999</td>\n",
              "      <td>162.370002</td>\n",
              "      <td>153.150002</td>\n",
              "      <td>158.160004</td>\n",
              "      <td>3.180700e+06</td>\n",
              "      <td>158.160004</td>\n",
              "    </tr>\n",
              "    <tr>\n",
              "      <th>75%</th>\n",
              "      <td>220.557495</td>\n",
              "      <td>224.099999</td>\n",
              "      <td>217.119999</td>\n",
              "      <td>220.022503</td>\n",
              "      <td>5.662100e+06</td>\n",
              "      <td>220.022503</td>\n",
              "    </tr>\n",
              "    <tr>\n",
              "      <th>max</th>\n",
              "      <td>287.670013</td>\n",
              "      <td>291.420013</td>\n",
              "      <td>280.399994</td>\n",
              "      <td>286.040009</td>\n",
              "      <td>3.716390e+07</td>\n",
              "      <td>286.040009</td>\n",
              "    </tr>\n",
              "  </tbody>\n",
              "</table>\n",
              "</div>"
            ],
            "text/plain": [
              "              Open         High  ...        Volume    Adj Close\n",
              "count  1692.000000  1692.000000  ...  1.692000e+03  1692.000000\n",
              "mean    132.441572   134.769698  ...  4.270741e+06   132.428658\n",
              "std      94.309923    95.694914  ...  4.295971e+06    94.313187\n",
              "min      16.139999    16.629999  ...  1.185000e+05    15.800000\n",
              "25%      30.000000    30.650000  ...  1.194350e+06    29.884999\n",
              "50%     156.334999   162.370002  ...  3.180700e+06   158.160004\n",
              "75%     220.557495   224.099999  ...  5.662100e+06   220.022503\n",
              "max     287.670013   291.420013  ...  3.716390e+07   286.040009\n",
              "\n",
              "[8 rows x 6 columns]"
            ]
          },
          "metadata": {
            "tags": []
          },
          "execution_count": 5
        }
      ]
    },
    {
      "cell_type": "code",
      "metadata": {
        "id": "BCzZeuspJMUK",
        "colab_type": "code",
        "outputId": "e6b229ce-e0cb-44c2-85a4-4ca29fb9974e",
        "colab": {
          "base_uri": "https://localhost:8080/",
          "height": 51
        }
      },
      "source": [
        "null_columns=df.columns[df.isnull().any()]\n",
        "df[null_columns].isnull().sum()"
      ],
      "execution_count": 0,
      "outputs": [
        {
          "output_type": "execute_result",
          "data": {
            "text/plain": [
              "label    34\n",
              "dtype: int64"
            ]
          },
          "metadata": {
            "tags": []
          },
          "execution_count": 17
        }
      ]
    },
    {
      "cell_type": "code",
      "metadata": {
        "id": "bLaRznxvJkdg",
        "colab_type": "code",
        "outputId": "d97c88ce-ca57-4132-b395-db19d3e6767c",
        "colab": {
          "base_uri": "https://localhost:8080/",
          "height": 170
        }
      },
      "source": [
        "#df= pd.read_csv(\"D:\\python\\Datasets for ML\\Tesla.csv\")\n",
        "df['HL_PCT']=(df['High'] - df['Low']) /df['Adj Close'] * 100 # adds HL_PCT column to the dataset\n",
        "df['PCT_chg']=(df['Close'] - df['Open']) /df['Open'] * 100 # adds PCT_chg column to the dataset\n",
        "print(df.head(6))"
      ],
      "execution_count": 0,
      "outputs": [
        {
          "output_type": "stream",
          "text": [
            "        Date       Open       High  ...  Adj Close     HL_PCT    PCT_chg\n",
            "0  6/29/2010  19.000000  25.000000  ...  23.889999  31.226452  25.736837\n",
            "1  6/30/2010  25.790001  30.420000  ...  23.830000  29.878309  -7.599848\n",
            "2   7/1/2010  25.000000  25.920000  ...  21.959999  25.728599 -12.160004\n",
            "3   7/2/2010  23.000000  23.100000  ...  19.200001  22.864587 -16.521735\n",
            "4   7/6/2010  20.000000  20.000000  ...  16.110001  25.884542 -19.449995\n",
            "5   7/7/2010  16.400000  16.629999  ...  15.800000  10.443032  -3.658537\n",
            "\n",
            "[6 rows x 9 columns]\n"
          ],
          "name": "stdout"
        }
      ]
    },
    {
      "cell_type": "code",
      "metadata": {
        "id": "2E7CmDTNJ0ae",
        "colab_type": "code",
        "colab": {}
      },
      "source": [
        "df=df[['Adj Close','HL_PCT','PCT_chg','Volume']]"
      ],
      "execution_count": 0,
      "outputs": []
    },
    {
      "cell_type": "code",
      "metadata": {
        "id": "yBmud2twKCKN",
        "colab_type": "code",
        "colab": {}
      },
      "source": [
        "df['forecast']=df['Adj Close']"
      ],
      "execution_count": 0,
      "outputs": []
    },
    {
      "cell_type": "code",
      "metadata": {
        "id": "IDafWYvkKLNB",
        "colab_type": "code",
        "outputId": "f61ef82b-01e7-4acb-bc4c-a7e53bc2c990",
        "colab": {
          "base_uri": "https://localhost:8080/",
          "height": 204
        }
      },
      "source": [
        "df.head()"
      ],
      "execution_count": 0,
      "outputs": [
        {
          "output_type": "execute_result",
          "data": {
            "text/html": [
              "<div>\n",
              "<style scoped>\n",
              "    .dataframe tbody tr th:only-of-type {\n",
              "        vertical-align: middle;\n",
              "    }\n",
              "\n",
              "    .dataframe tbody tr th {\n",
              "        vertical-align: top;\n",
              "    }\n",
              "\n",
              "    .dataframe thead th {\n",
              "        text-align: right;\n",
              "    }\n",
              "</style>\n",
              "<table border=\"1\" class=\"dataframe\">\n",
              "  <thead>\n",
              "    <tr style=\"text-align: right;\">\n",
              "      <th></th>\n",
              "      <th>Adj Close</th>\n",
              "      <th>HL_PCT</th>\n",
              "      <th>PCT_chg</th>\n",
              "      <th>Volume</th>\n",
              "      <th>forecast</th>\n",
              "    </tr>\n",
              "  </thead>\n",
              "  <tbody>\n",
              "    <tr>\n",
              "      <th>0</th>\n",
              "      <td>23.889999</td>\n",
              "      <td>31.226452</td>\n",
              "      <td>25.736837</td>\n",
              "      <td>18766300</td>\n",
              "      <td>23.889999</td>\n",
              "    </tr>\n",
              "    <tr>\n",
              "      <th>1</th>\n",
              "      <td>23.830000</td>\n",
              "      <td>29.878309</td>\n",
              "      <td>-7.599848</td>\n",
              "      <td>17187100</td>\n",
              "      <td>23.830000</td>\n",
              "    </tr>\n",
              "    <tr>\n",
              "      <th>2</th>\n",
              "      <td>21.959999</td>\n",
              "      <td>25.728599</td>\n",
              "      <td>-12.160004</td>\n",
              "      <td>8218800</td>\n",
              "      <td>21.959999</td>\n",
              "    </tr>\n",
              "    <tr>\n",
              "      <th>3</th>\n",
              "      <td>19.200001</td>\n",
              "      <td>22.864587</td>\n",
              "      <td>-16.521735</td>\n",
              "      <td>5139800</td>\n",
              "      <td>19.200001</td>\n",
              "    </tr>\n",
              "    <tr>\n",
              "      <th>4</th>\n",
              "      <td>16.110001</td>\n",
              "      <td>25.884542</td>\n",
              "      <td>-19.449995</td>\n",
              "      <td>6866900</td>\n",
              "      <td>16.110001</td>\n",
              "    </tr>\n",
              "  </tbody>\n",
              "</table>\n",
              "</div>"
            ],
            "text/plain": [
              "   Adj Close     HL_PCT    PCT_chg    Volume   forecast\n",
              "0  23.889999  31.226452  25.736837  18766300  23.889999\n",
              "1  23.830000  29.878309  -7.599848  17187100  23.830000\n",
              "2  21.959999  25.728599 -12.160004   8218800  21.959999\n",
              "3  19.200001  22.864587 -16.521735   5139800  19.200001\n",
              "4  16.110001  25.884542 -19.449995   6866900  16.110001"
            ]
          },
          "metadata": {
            "tags": []
          },
          "execution_count": 13
        }
      ]
    },
    {
      "cell_type": "code",
      "metadata": {
        "id": "jUFMN9cGKOwM",
        "colab_type": "code",
        "colab": {}
      },
      "source": [
        "forecast_duration=int(math.ceil(0.02*len(df)))"
      ],
      "execution_count": 0,
      "outputs": []
    },
    {
      "cell_type": "code",
      "metadata": {
        "id": "WcW9ZUAGKZWK",
        "colab_type": "code",
        "colab": {}
      },
      "source": [
        "df['label']=df['forecast'].shift(-forecast_duration)"
      ],
      "execution_count": 0,
      "outputs": []
    },
    {
      "cell_type": "code",
      "metadata": {
        "id": "Oi_yYBFeKdzK",
        "colab_type": "code",
        "colab": {}
      },
      "source": [
        ""
      ],
      "execution_count": 0,
      "outputs": []
    }
  ]
}