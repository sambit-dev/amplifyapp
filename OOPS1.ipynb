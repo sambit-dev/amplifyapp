{
  "nbformat": 4,
  "nbformat_minor": 0,
  "metadata": {
    "colab": {
      "name": "OOPS1.ipynb",
      "provenance": [],
      "collapsed_sections": [],
      "authorship_tag": "ABX9TyOCiCHcFduR1jfID+W2/FN8",
      "include_colab_link": true
    },
    "kernelspec": {
      "name": "python3",
      "display_name": "Python 3"
    }
  },
  "cells": [
    {
      "cell_type": "markdown",
      "metadata": {
        "id": "view-in-github",
        "colab_type": "text"
      },
      "source": [
        "<a href=\"https://colab.research.google.com/github/sambit-dev/amplifyapp/blob/master/OOPS1.ipynb\" target=\"_parent\"><img src=\"https://colab.research.google.com/assets/colab-badge.svg\" alt=\"Open In Colab\"/></a>"
      ]
    },
    {
      "cell_type": "code",
      "metadata": {
        "id": "gU7GNeuMe6N7",
        "colab_type": "code",
        "colab": {
          "base_uri": "https://localhost:8080/",
          "height": 51
        },
        "outputId": "050f8d3b-4dc7-447a-cf02-721daa63044a"
      },
      "source": [
        "class firstclass:\n",
        "    def __init__(self, name, age, city='pune'):\n",
        "        self.name = name\n",
        "        self.age = age\n",
        "        self.city = city\n",
        "\n",
        "    def print_details(self):\n",
        "        print(self.name, self.age, self.city, self.salary)\n",
        "\n",
        "    def print_details(self):\n",
        "        print(self.name)\n",
        "\n",
        "obj = firstclass('nishan', 30)\n",
        "obj.name = 'mayank'\n",
        "obj.salary = 50000\n",
        "obj.print_details()\n",
        "obj.__init__('sam',23)\n",
        "obj.print_details()"
      ],
      "execution_count": 1,
      "outputs": [
        {
          "output_type": "stream",
          "text": [
            "mayank\n",
            "sam\n"
          ],
          "name": "stdout"
        }
      ]
    },
    {
      "cell_type": "code",
      "metadata": {
        "id": "ycziqONKfIYi",
        "colab_type": "code",
        "colab": {
          "base_uri": "https://localhost:8080/",
          "height": 231
        },
        "outputId": "7958af87-77b3-4bb4-ee52-3cba6980b6b0"
      },
      "source": [
        "class firstclass:\n",
        "    def __init__(self, name, age, city='pune'):\n",
        "        self.name = name\n",
        "        self.age = age\n",
        "        self.city = city\n",
        "\n",
        "    def __print_details(self):\n",
        "        print(self.name, self.age, self.city, self.salary)\n",
        "\n",
        "obj = firstclass('nishan', 30)\n",
        "obj.name = 'mayank'\n",
        "obj.salary = 50000\n",
        "obj.__print_details()\n",
        "obj.__init__('sam',23)\n",
        "obj.__print_details()"
      ],
      "execution_count": 2,
      "outputs": [
        {
          "output_type": "error",
          "ename": "AttributeError",
          "evalue": "ignored",
          "traceback": [
            "\u001b[0;31m---------------------------------------------------------------------------\u001b[0m",
            "\u001b[0;31mAttributeError\u001b[0m                            Traceback (most recent call last)",
            "\u001b[0;32m<ipython-input-2-c68b38ff417f>\u001b[0m in \u001b[0;36m<module>\u001b[0;34m()\u001b[0m\n\u001b[1;32m     11\u001b[0m \u001b[0mobj\u001b[0m\u001b[0;34m.\u001b[0m\u001b[0mname\u001b[0m \u001b[0;34m=\u001b[0m \u001b[0;34m'mayank'\u001b[0m\u001b[0;34m\u001b[0m\u001b[0;34m\u001b[0m\u001b[0m\n\u001b[1;32m     12\u001b[0m \u001b[0mobj\u001b[0m\u001b[0;34m.\u001b[0m\u001b[0msalary\u001b[0m \u001b[0;34m=\u001b[0m \u001b[0;36m50000\u001b[0m\u001b[0;34m\u001b[0m\u001b[0;34m\u001b[0m\u001b[0m\n\u001b[0;32m---> 13\u001b[0;31m \u001b[0mobj\u001b[0m\u001b[0;34m.\u001b[0m\u001b[0m__print_details\u001b[0m\u001b[0;34m(\u001b[0m\u001b[0;34m)\u001b[0m\u001b[0;34m\u001b[0m\u001b[0;34m\u001b[0m\u001b[0m\n\u001b[0m\u001b[1;32m     14\u001b[0m \u001b[0mobj\u001b[0m\u001b[0;34m.\u001b[0m\u001b[0m__init__\u001b[0m\u001b[0;34m(\u001b[0m\u001b[0;34m'sam'\u001b[0m\u001b[0;34m,\u001b[0m\u001b[0;36m23\u001b[0m\u001b[0;34m)\u001b[0m\u001b[0;34m\u001b[0m\u001b[0;34m\u001b[0m\u001b[0m\n\u001b[1;32m     15\u001b[0m \u001b[0mobj\u001b[0m\u001b[0;34m.\u001b[0m\u001b[0m__print_details\u001b[0m\u001b[0;34m(\u001b[0m\u001b[0;34m)\u001b[0m\u001b[0;34m\u001b[0m\u001b[0;34m\u001b[0m\u001b[0m\n",
            "\u001b[0;31mAttributeError\u001b[0m: 'firstclass' object has no attribute '__print_details'"
          ]
        }
      ]
    },
    {
      "cell_type": "code",
      "metadata": {
        "id": "cqueXIDvfc36",
        "colab_type": "code",
        "colab": {
          "base_uri": "https://localhost:8080/",
          "height": 34
        },
        "outputId": "6fe73ddf-2a53-45cc-a518-5a995bf6617c"
      },
      "source": [
        "class firstclass1:\n",
        "    def __init__(self, name, age, city='pune'):\n",
        "        self.name = name\n",
        "        self.age = age\n",
        "        self.city = city\n",
        "\n",
        "    def __print_details__():\n",
        "        print(\"a\")\n",
        "\n",
        "\n",
        "# obj = firstclass('nishan', 30)\n",
        "# obj.name = 'mayank'\n",
        "# obj.salary = 50000\n",
        "# obj.__init__('sam',23)\n",
        "# obj.__print_details__()\n",
        "firstclass1.__print_details__()"
      ],
      "execution_count": 13,
      "outputs": [
        {
          "output_type": "stream",
          "text": [
            "a\n"
          ],
          "name": "stdout"
        }
      ]
    },
    {
      "cell_type": "code",
      "metadata": {
        "id": "tOxJuhIShP6w",
        "colab_type": "code",
        "colab": {
          "base_uri": "https://localhost:8080/",
          "height": 51
        },
        "outputId": "8e787b5f-8028-47f3-971a-8132757d4f32"
      },
      "source": [
        "class firstclass1:\n",
        "  no_obj=0 #class varaible\n",
        "  def __init__(self, name, age, city='pune'):\n",
        "      self.name = name  ## instance variable\n",
        "      self.age = age\n",
        "      self.city = city\n",
        "      firstclass1.no_obj +=1\n",
        "\n",
        "  def __print_details__(self):\n",
        "      print(self.name,self.age)\n",
        "\n",
        "\n",
        "obj = firstclass1('nishan', 30)\n",
        "obj.name = 'mayank'\n",
        "obj.salary = 50000\n",
        "obj.__init__('sam',23)\n",
        "obj.__print_details__()\n",
        "print(obj.no_obj)"
      ],
      "execution_count": 19,
      "outputs": [
        {
          "output_type": "stream",
          "text": [
            "sam 23\n",
            "2\n"
          ],
          "name": "stdout"
        }
      ]
    },
    {
      "cell_type": "code",
      "metadata": {
        "id": "tR4tm3mGiswA",
        "colab_type": "code",
        "colab": {}
      },
      "source": [
        ""
      ],
      "execution_count": 0,
      "outputs": []
    }
  ]
}