{
  "nbformat": 4,
  "nbformat_minor": 0,
  "metadata": {
    "colab": {
      "name": "OOPS1.ipynb",
      "provenance": [],
      "collapsed_sections": [],
      "authorship_tag": "ABX9TyPQMwEc4Z1XUMioPCiM0SRB",
      "include_colab_link": true
    },
    "kernelspec": {
      "name": "python3",
      "display_name": "Python 3"
    }
  },
  "cells": [
    {
      "cell_type": "markdown",
      "metadata": {
        "id": "view-in-github",
        "colab_type": "text"
      },
      "source": [
        "<a href=\"https://colab.research.google.com/github/sambit-dev/amplifyapp/blob/master/OOPS1.ipynb\" target=\"_parent\"><img src=\"https://colab.research.google.com/assets/colab-badge.svg\" alt=\"Open In Colab\"/></a>"
      ]
    },
    {
      "cell_type": "code",
      "metadata": {
        "id": "gU7GNeuMe6N7",
        "colab_type": "code",
        "colab": {
          "base_uri": "https://localhost:8080/",
          "height": 51
        },
        "outputId": "050f8d3b-4dc7-447a-cf02-721daa63044a"
      },
      "source": [
        "class firstclass:\n",
        "    def __init__(self, name, age, city='pune'):\n",
        "        self.name = name\n",
        "        self.age = age\n",
        "        self.city = city\n",
        "\n",
        "    def print_details(self):\n",
        "        print(self.name, self.age, self.city, self.salary)\n",
        "\n",
        "    def print_details(self):\n",
        "        print(self.name)\n",
        "\n",
        "obj = firstclass('nishan', 30)\n",
        "obj.name = 'mayank'\n",
        "obj.salary = 50000\n",
        "obj.print_details()\n",
        "obj.__init__('sam',23)\n",
        "obj.print_details()"
      ],
      "execution_count": 1,
      "outputs": [
        {
          "output_type": "stream",
          "text": [
            "mayank\n",
            "sam\n"
          ],
          "name": "stdout"
        }
      ]
    },
    {
      "cell_type": "code",
      "metadata": {
        "id": "ycziqONKfIYi",
        "colab_type": "code",
        "colab": {
          "base_uri": "https://localhost:8080/",
          "height": 231
        },
        "outputId": "7958af87-77b3-4bb4-ee52-3cba6980b6b0"
      },
      "source": [
        "class firstclass:\n",
        "    def __init__(self, name, age, city='pune'):\n",
        "        self.name = name\n",
        "        self.age = age\n",
        "        self.city = city\n",
        "\n",
        "    def __print_details(self):\n",
        "        print(self.name, self.age, self.city, self.salary)\n",
        "\n",
        "obj = firstclass('nishan', 30)\n",
        "obj.name = 'mayank'\n",
        "obj.salary = 50000\n",
        "obj.__print_details()\n",
        "obj.__init__('sam',23)\n",
        "obj.__print_details()"
      ],
      "execution_count": 2,
      "outputs": [
        {
          "output_type": "error",
          "ename": "AttributeError",
          "evalue": "ignored",
          "traceback": [
            "\u001b[0;31m---------------------------------------------------------------------------\u001b[0m",
            "\u001b[0;31mAttributeError\u001b[0m                            Traceback (most recent call last)",
            "\u001b[0;32m<ipython-input-2-c68b38ff417f>\u001b[0m in \u001b[0;36m<module>\u001b[0;34m()\u001b[0m\n\u001b[1;32m     11\u001b[0m \u001b[0mobj\u001b[0m\u001b[0;34m.\u001b[0m\u001b[0mname\u001b[0m \u001b[0;34m=\u001b[0m \u001b[0;34m'mayank'\u001b[0m\u001b[0;34m\u001b[0m\u001b[0;34m\u001b[0m\u001b[0m\n\u001b[1;32m     12\u001b[0m \u001b[0mobj\u001b[0m\u001b[0;34m.\u001b[0m\u001b[0msalary\u001b[0m \u001b[0;34m=\u001b[0m \u001b[0;36m50000\u001b[0m\u001b[0;34m\u001b[0m\u001b[0;34m\u001b[0m\u001b[0m\n\u001b[0;32m---> 13\u001b[0;31m \u001b[0mobj\u001b[0m\u001b[0;34m.\u001b[0m\u001b[0m__print_details\u001b[0m\u001b[0;34m(\u001b[0m\u001b[0;34m)\u001b[0m\u001b[0;34m\u001b[0m\u001b[0;34m\u001b[0m\u001b[0m\n\u001b[0m\u001b[1;32m     14\u001b[0m \u001b[0mobj\u001b[0m\u001b[0;34m.\u001b[0m\u001b[0m__init__\u001b[0m\u001b[0;34m(\u001b[0m\u001b[0;34m'sam'\u001b[0m\u001b[0;34m,\u001b[0m\u001b[0;36m23\u001b[0m\u001b[0;34m)\u001b[0m\u001b[0;34m\u001b[0m\u001b[0;34m\u001b[0m\u001b[0m\n\u001b[1;32m     15\u001b[0m \u001b[0mobj\u001b[0m\u001b[0;34m.\u001b[0m\u001b[0m__print_details\u001b[0m\u001b[0;34m(\u001b[0m\u001b[0;34m)\u001b[0m\u001b[0;34m\u001b[0m\u001b[0;34m\u001b[0m\u001b[0m\n",
            "\u001b[0;31mAttributeError\u001b[0m: 'firstclass' object has no attribute '__print_details'"
          ]
        }
      ]
    },
    {
      "cell_type": "code",
      "metadata": {
        "id": "cqueXIDvfc36",
        "colab_type": "code",
        "colab": {
          "base_uri": "https://localhost:8080/",
          "height": 34
        },
        "outputId": "6fe73ddf-2a53-45cc-a518-5a995bf6617c"
      },
      "source": [
        "class firstclass1:\n",
        "    def __init__(self, name, age, city='pune'):\n",
        "        self.name = name\n",
        "        self.age = age\n",
        "        self.city = city\n",
        "\n",
        "    def __print_details__():\n",
        "        print(\"a\")\n",
        "\n",
        "\n",
        "# obj = firstclass('nishan', 30)\n",
        "# obj.name = 'mayank'\n",
        "# obj.salary = 50000\n",
        "# obj.__init__('sam',23)\n",
        "# obj.__print_details__()\n",
        "firstclass1.__print_details__()"
      ],
      "execution_count": 13,
      "outputs": [
        {
          "output_type": "stream",
          "text": [
            "a\n"
          ],
          "name": "stdout"
        }
      ]
    },
    {
      "cell_type": "code",
      "metadata": {
        "id": "tOxJuhIShP6w",
        "colab_type": "code",
        "colab": {
          "base_uri": "https://localhost:8080/",
          "height": 51
        },
        "outputId": "8e787b5f-8028-47f3-971a-8132757d4f32"
      },
      "source": [
        "class firstclass1:\n",
        "  no_obj=0 #class varaible\n",
        "  def __init__(self, name, age, city='pune'):\n",
        "      self.name = name  ## instance variable\n",
        "      self.age = age\n",
        "      self.city = city\n",
        "      firstclass1.no_obj +=1\n",
        "\n",
        "  def __print_details__(self):\n",
        "      print(self.name,self.age)\n",
        "\n",
        "\n",
        "obj = firstclass1('nishan', 30)\n",
        "obj.name = 'mayank'\n",
        "obj.salary = 50000\n",
        "obj.__init__('sam',23)\n",
        "obj.__print_details__()\n",
        "print(obj.no_obj)"
      ],
      "execution_count": 19,
      "outputs": [
        {
          "output_type": "stream",
          "text": [
            "sam 23\n",
            "2\n"
          ],
          "name": "stdout"
        }
      ]
    },
    {
      "cell_type": "code",
      "metadata": {
        "id": "tR4tm3mGiswA",
        "colab_type": "code",
        "colab": {
          "base_uri": "https://localhost:8080/",
          "height": 122
        },
        "outputId": "22872f80-9acc-4b72-8a6f-c5d6c23a8c77"
      },
      "source": [
        "class awesome:\n",
        "  'this is a sample class awesome'\n",
        "  def __init__(self):\n",
        "    print('hello from init()')\n",
        "\n",
        "print(awesome.__doc__)\n",
        "print(awesome.__name__)\n",
        "print(awesome.__module__)\n",
        "print(awesome.__bases__)\n",
        "print(awesome.__dict__)"
      ],
      "execution_count": 39,
      "outputs": [
        {
          "output_type": "stream",
          "text": [
            "this is a sample class awesome\n",
            "awesome\n",
            "__main__\n",
            "(<class 'object'>,)\n",
            "{'__module__': '__main__', '__doc__': 'this is a sample class awesome', '__init__': <function awesome.__init__ at 0x7f7518d67950>, '__dict__': <attribute '__dict__' of 'awesome' objects>, '__weakref__': <attribute '__weakref__' of 'awesome' objects>}\n"
          ],
          "name": "stdout"
        }
      ]
    },
    {
      "cell_type": "code",
      "metadata": {
        "id": "TBmWe5TKk1gu",
        "colab_type": "code",
        "colab": {
          "base_uri": "https://localhost:8080/",
          "height": 119
        },
        "outputId": "cfb63c47-93b6-4947-dbdc-8ec0fe80d80e"
      },
      "source": [
        "class emp:\n",
        "  name='harsh'\n",
        "  salary=50000\n",
        "  def show(self):\n",
        "    print(self.name)\n",
        "    print(self.salary)\n",
        "\n",
        "e1=emp()\n",
        "print(getattr(e1,'name'))\n",
        "print(hasattr(e1,'name'))\n",
        "setattr(e1,'height',152)\n",
        "print(getattr(e1,'height'))\n",
        "print(e1)\n",
        "delattr(emp,'salary')\n",
        "print(hasattr(e1,'salary'))\n",
        "delattr(e1,'height')\n",
        "print(hasattr(e1,'height'))"
      ],
      "execution_count": 32,
      "outputs": [
        {
          "output_type": "stream",
          "text": [
            "harsh\n",
            "True\n",
            "152\n",
            "<__main__.emp object at 0x7f7518e31a20>\n",
            "False\n",
            "False\n"
          ],
          "name": "stdout"
        }
      ]
    },
    {
      "cell_type": "code",
      "metadata": {
        "id": "Xys8n3NAn5t8",
        "colab_type": "code",
        "colab": {
          "base_uri": "https://localhost:8080/",
          "height": 85
        },
        "outputId": "af6276d0-41ad-41a9-c55c-e44947e4e7f9"
      },
      "source": [
        "import datetime\n",
        "class person:\n",
        "  def __init__(self,name,surname,birthdate,address,telephone,email):\n",
        "    self.name=name\n",
        "    self.surname=surname\n",
        "    self.birthdate=birthdate\n",
        "\n",
        "    self.address=address\n",
        "    self.telephone=telephone\n",
        "    self.email=email\n",
        "\n",
        "  def __str__(self):\n",
        "    return\"%s%s,born%s\\nadd:%s\\ntelephone:%s\\nemail:%s\"%(self.name,self.surname,self.birthdate,self.address,self.telephone,self.email)\n",
        "\n",
        "jane=person('jane','doe',datetime.date(1992,3,12),#year month day\n",
        "            'no12 short street','5555456','jane.doe@emaple.com')\n",
        "print(jane)"
      ],
      "execution_count": 38,
      "outputs": [
        {
          "output_type": "stream",
          "text": [
            "janedoe,born1992-03-12\n",
            "add:no12 short street\n",
            "telephone:5555456\n",
            "email:jane.doe@emaple.com\n"
          ],
          "name": "stdout"
        }
      ]
    },
    {
      "cell_type": "code",
      "metadata": {
        "id": "jOzZcGQvsGob",
        "colab_type": "code",
        "colab": {
          "base_uri": "https://localhost:8080/",
          "height": 85
        },
        "outputId": "a1a02cd8-5402-46f8-8dc2-4d6fc97c4722"
      },
      "source": [
        "class robot:\n",
        "  def __init__(self,name):\n",
        "    self.name=name\n",
        "  \n",
        "  def say_hi(self):\n",
        "    print('hi,i am '+ self.name)\n",
        "\n",
        "class physicianrobot(robot):\n",
        "  def __init__(self,name):\n",
        "    self.name=name\n",
        "  \n",
        "  def say_hi(self):\n",
        "    super().say_hi()\n",
        "    print('i am physician')\n",
        "\n",
        "x=robot('marvin')\n",
        "y=physicianrobot('james')\n",
        "\n",
        "print(x,type(x))\n",
        "print(y,type(y))\n",
        "y.say_hi()"
      ],
      "execution_count": 46,
      "outputs": [
        {
          "output_type": "stream",
          "text": [
            "<__main__.robot object at 0x7f7518c3deb8> <class '__main__.robot'>\n",
            "<__main__.physicianrobot object at 0x7f7518c3de48> <class '__main__.physicianrobot'>\n",
            "hi,i am james\n",
            "i am physician\n"
          ],
          "name": "stdout"
        }
      ]
    },
    {
      "cell_type": "code",
      "metadata": {
        "id": "0-BkXiXbuMVQ",
        "colab_type": "code",
        "colab": {}
      },
      "source": [
        ""
      ],
      "execution_count": 0,
      "outputs": []
    }
  ]
}