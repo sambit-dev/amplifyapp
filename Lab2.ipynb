{
  "nbformat": 4,
  "nbformat_minor": 0,
  "metadata": {
    "colab": {
      "name": "Lab2.ipynb",
      "provenance": [],
      "collapsed_sections": [],
      "authorship_tag": "ABX9TyPxKdvic4K5nZ09KovkagJ4",
      "include_colab_link": true
    },
    "kernelspec": {
      "name": "python3",
      "display_name": "Python 3"
    }
  },
  "cells": [
    {
      "cell_type": "markdown",
      "metadata": {
        "id": "view-in-github",
        "colab_type": "text"
      },
      "source": [
        "<a href=\"https://colab.research.google.com/github/sambit-dev/amplifyapp/blob/master/Lab2.ipynb\" target=\"_parent\"><img src=\"https://colab.research.google.com/assets/colab-badge.svg\" alt=\"Open In Colab\"/></a>"
      ]
    },
    {
      "cell_type": "code",
      "metadata": {
        "id": "febXalmgI_nA",
        "colab_type": "code",
        "outputId": "9804c15e-5e52-45e4-d838-f09ae4e96ca1",
        "colab": {
          "base_uri": "https://localhost:8080/",
          "height": 51
        }
      },
      "source": [
        "a=input()\n",
        "if (a.isnumeric()): \n",
        "  print(10+int(a))\n",
        "else:\n",
        "  print('this is not a number')"
      ],
      "execution_count": 0,
      "outputs": [
        {
          "output_type": "stream",
          "text": [
            "23\n",
            "33\n"
          ],
          "name": "stdout"
        }
      ]
    },
    {
      "cell_type": "code",
      "metadata": {
        "id": "kfBkFxfISl4I",
        "colab_type": "code",
        "colab": {}
      },
      "source": [
        ""
      ],
      "execution_count": 0,
      "outputs": []
    },
    {
      "cell_type": "code",
      "metadata": {
        "id": "FO1F76EBMIFu",
        "colab_type": "code",
        "outputId": "19e9a740-b7a3-4d93-ae9d-06645d7e5d5c",
        "colab": {
          "base_uri": "https://localhost:8080/",
          "height": 68
        }
      },
      "source": [
        "try:\n",
        "  x=int(input())\n",
        "  x=10+x\n",
        "  print(x)\n",
        "except ValueError as e:  #exception handling is mostly used for logging error in a big program\n",
        "  print(e)\n",
        "  print('invalid number,please try again')"
      ],
      "execution_count": 0,
      "outputs": [
        {
          "output_type": "stream",
          "text": [
            "sdd\n",
            "invalid literal for int() with base 10: 'sdd'\n",
            "invalid number,please try again\n"
          ],
          "name": "stdout"
        }
      ]
    },
    {
      "cell_type": "code",
      "metadata": {
        "id": "dPQrHKc4NfWo",
        "colab_type": "code",
        "outputId": "93cf8800-bdc8-4a3c-9af6-43ea41199c08",
        "colab": {
          "base_uri": "https://localhost:8080/",
          "height": 34
        }
      },
      "source": [
        "try:\n",
        "  a=int(input())\n",
        "  if a>10:\n",
        "    raise NameError('input is grater than 10')\n",
        "    print(a)\n",
        "except NameError as e:\n",
        "  print(e)"
      ],
      "execution_count": 0,
      "outputs": [
        {
          "output_type": "stream",
          "text": [
            "4\n"
          ],
          "name": "stdout"
        }
      ]
    },
    {
      "cell_type": "code",
      "metadata": {
        "id": "Mq617JpNRnA9",
        "colab_type": "code",
        "outputId": "b6b6d448-46d4-4631-9960-881e45855acc",
        "colab": {
          "base_uri": "https://localhost:8080/",
          "height": 544
        }
      },
      "source": [
        "dir(Exception)"
      ],
      "execution_count": 0,
      "outputs": [
        {
          "output_type": "execute_result",
          "data": {
            "text/plain": [
              "['__cause__',\n",
              " '__class__',\n",
              " '__context__',\n",
              " '__delattr__',\n",
              " '__dict__',\n",
              " '__dir__',\n",
              " '__doc__',\n",
              " '__eq__',\n",
              " '__format__',\n",
              " '__ge__',\n",
              " '__getattribute__',\n",
              " '__gt__',\n",
              " '__hash__',\n",
              " '__init__',\n",
              " '__init_subclass__',\n",
              " '__le__',\n",
              " '__lt__',\n",
              " '__ne__',\n",
              " '__new__',\n",
              " '__reduce__',\n",
              " '__reduce_ex__',\n",
              " '__repr__',\n",
              " '__setattr__',\n",
              " '__setstate__',\n",
              " '__sizeof__',\n",
              " '__str__',\n",
              " '__subclasshook__',\n",
              " '__suppress_context__',\n",
              " '__traceback__',\n",
              " 'args',\n",
              " 'with_traceback']"
            ]
          },
          "metadata": {
            "tags": []
          },
          "execution_count": 22
        }
      ]
    },
    {
      "cell_type": "code",
      "metadata": {
        "id": "7xv79fsQSj22",
        "colab_type": "code",
        "outputId": "57920f2a-a46d-4b2e-c436-6693b9ee6df7",
        "colab": {
          "base_uri": "https://localhost:8080/",
          "height": 34
        }
      },
      "source": [
        "Exception.__doc__"
      ],
      "execution_count": 0,
      "outputs": [
        {
          "output_type": "execute_result",
          "data": {
            "text/plain": [
              "'Common base class for all non-exit exceptions.'"
            ]
          },
          "metadata": {
            "tags": []
          },
          "execution_count": 23
        }
      ]
    },
    {
      "cell_type": "code",
      "metadata": {
        "id": "eTPNvFl1TDoy",
        "colab_type": "code",
        "outputId": "0f76cad9-6f21-4e31-8593-f04feb9cd56d",
        "colab": {
          "base_uri": "https://localhost:8080/",
          "height": 544
        }
      },
      "source": [
        "dir(BaseException)"
      ],
      "execution_count": 0,
      "outputs": [
        {
          "output_type": "execute_result",
          "data": {
            "text/plain": [
              "['__cause__',\n",
              " '__class__',\n",
              " '__context__',\n",
              " '__delattr__',\n",
              " '__dict__',\n",
              " '__dir__',\n",
              " '__doc__',\n",
              " '__eq__',\n",
              " '__format__',\n",
              " '__ge__',\n",
              " '__getattribute__',\n",
              " '__gt__',\n",
              " '__hash__',\n",
              " '__init__',\n",
              " '__init_subclass__',\n",
              " '__le__',\n",
              " '__lt__',\n",
              " '__ne__',\n",
              " '__new__',\n",
              " '__reduce__',\n",
              " '__reduce_ex__',\n",
              " '__repr__',\n",
              " '__setattr__',\n",
              " '__setstate__',\n",
              " '__sizeof__',\n",
              " '__str__',\n",
              " '__subclasshook__',\n",
              " '__suppress_context__',\n",
              " '__traceback__',\n",
              " 'args',\n",
              " 'with_traceback']"
            ]
          },
          "metadata": {
            "tags": []
          },
          "execution_count": 24
        }
      ]
    },
    {
      "cell_type": "code",
      "metadata": {
        "id": "WJgHx3siTqh4",
        "colab_type": "code",
        "outputId": "1db9cd0c-3c23-4278-ad86-aa918b1a308a",
        "colab": {
          "base_uri": "https://localhost:8080/",
          "height": 34
        }
      },
      "source": [
        "try:\n",
        "  x=int(input())\n",
        "  assert(x>10),\"x is greater than 10\"\n",
        "except AssertionError as e:\n",
        "  print(e)"
      ],
      "execution_count": 0,
      "outputs": [
        {
          "output_type": "stream",
          "text": [
            "23\n"
          ],
          "name": "stdout"
        }
      ]
    },
    {
      "cell_type": "code",
      "metadata": {
        "id": "zcVhCGayVL4B",
        "colab_type": "code",
        "outputId": "8b088b2d-8eda-4601-b2ca-ad24fe1896b3",
        "colab": {
          "base_uri": "https://localhost:8080/",
          "height": 68
        }
      },
      "source": [
        "try:\n",
        "  x=int(input())\n",
        "  y=int(input())\n",
        "  assert(x>0 and y>0), \"both the entered numbers should be more than 0\"\n",
        "  assert(x>y),'first number should be more than second'\n",
        "  print(x/y)\n",
        "except AssertionError as e:\n",
        "  print(e)"
      ],
      "execution_count": 0,
      "outputs": [
        {
          "output_type": "stream",
          "text": [
            "23\n",
            "12\n",
            "1.9166666666666667\n"
          ],
          "name": "stdout"
        }
      ]
    },
    {
      "cell_type": "code",
      "metadata": {
        "id": "brJxI6ZzpPOP",
        "colab_type": "code",
        "colab": {
          "base_uri": "https://localhost:8080/",
          "height": 51
        },
        "outputId": "54cd6212-ebdb-4162-b422-a936761171d7"
      },
      "source": [
        "eve=[2,4,6,8,10]\n",
        "eveniter=iter(eve)\n",
        "print(next(eveniter))\n",
        "print(next(eveniter))"
      ],
      "execution_count": 3,
      "outputs": [
        {
          "output_type": "stream",
          "text": [
            "2\n",
            "4\n"
          ],
          "name": "stdout"
        }
      ]
    },
    {
      "cell_type": "code",
      "metadata": {
        "id": "VVvrnFz5qB0Z",
        "colab_type": "code",
        "colab": {
          "base_uri": "https://localhost:8080/",
          "height": 68
        },
        "outputId": "917caa64-f8ae-458d-b682-19cb49de3716"
      },
      "source": [
        "itr_obj=iter('python')\n",
        "c=0\n",
        "while c<2:\n",
        "  try:\n",
        "    i=next(itr_obj)\n",
        "    c=c+1\n",
        "    print(i)\n",
        "  except StopIteration:\n",
        "    break\n",
        "print(c)\n"
      ],
      "execution_count": 9,
      "outputs": [
        {
          "output_type": "stream",
          "text": [
            "p\n",
            "y\n",
            "2\n"
          ],
          "name": "stdout"
        }
      ]
    },
    {
      "cell_type": "code",
      "metadata": {
        "id": "tJ9LSKD9ryS1",
        "colab_type": "code",
        "colab": {
          "base_uri": "https://localhost:8080/",
          "height": 102
        },
        "outputId": "f21999a1-cd9e-4ec7-f075-81370cf1854a"
      },
      "source": [
        "#itr_obj=iter('python')\n",
        "c=0\n",
        "while True:\n",
        "  try:\n",
        "    i=next(itr_obj)\n",
        "    c=c+1\n",
        "    print(i)\n",
        "  except StopIteration:\n",
        "    break\n",
        "print(c)"
      ],
      "execution_count": 10,
      "outputs": [
        {
          "output_type": "stream",
          "text": [
            "t\n",
            "h\n",
            "o\n",
            "n\n",
            "4\n"
          ],
          "name": "stdout"
        }
      ]
    },
    {
      "cell_type": "code",
      "metadata": {
        "id": "9YxYaiOxr8gt",
        "colab_type": "code",
        "colab": {
          "base_uri": "https://localhost:8080/",
          "height": 187
        },
        "outputId": "3ddd3162-5b00-4624-bbe3-c582064a7074"
      },
      "source": [
        "def counter():\n",
        "  i=1\n",
        "  while(i<=10):    # this is a generator function\n",
        "    yield i\n",
        "    i+=1\n",
        "\n",
        "for i in counter():\n",
        "  print(i)"
      ],
      "execution_count": 12,
      "outputs": [
        {
          "output_type": "stream",
          "text": [
            "1\n",
            "2\n",
            "3\n",
            "4\n",
            "5\n",
            "6\n",
            "7\n",
            "8\n",
            "9\n",
            "10\n"
          ],
          "name": "stdout"
        }
      ]
    },
    {
      "cell_type": "code",
      "metadata": {
        "id": "f2pZRr08usbd",
        "colab_type": "code",
        "colab": {
          "base_uri": "https://localhost:8080/",
          "height": 136
        },
        "outputId": "6a053fa2-95e3-4c54-b4f5-7ea5dc930e55"
      },
      "source": [
        "def my_gen(x):\n",
        "  while(x>0):\n",
        "    if x%2==0:\n",
        "      yield 'even'\n",
        "    else:\n",
        "      yield 'odd'\n",
        "    x-=1\n",
        "\n",
        "for i in my_gen(7):\n",
        "  print(i)"
      ],
      "execution_count": 13,
      "outputs": [
        {
          "output_type": "stream",
          "text": [
            "odd\n",
            "even\n",
            "odd\n",
            "even\n",
            "odd\n",
            "even\n",
            "odd\n"
          ],
          "name": "stdout"
        }
      ]
    }
  ]
}