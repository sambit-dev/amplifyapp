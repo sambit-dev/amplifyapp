{
  "nbformat": 4,
  "nbformat_minor": 0,
  "metadata": {
    "colab": {
      "name": "Lab1.ipynb",
      "provenance": [],
      "collapsed_sections": [],
      "authorship_tag": "ABX9TyMzyRlOkp3/oCSB8qXmpSO4",
      "include_colab_link": true
    },
    "kernelspec": {
      "name": "python3",
      "display_name": "Python 3"
    }
  },
  "cells": [
    {
      "cell_type": "markdown",
      "metadata": {
        "id": "view-in-github",
        "colab_type": "text"
      },
      "source": [
        "<a href=\"https://colab.research.google.com/github/sambit-dev/amplifyapp/blob/master/Lab1.ipynb\" target=\"_parent\"><img src=\"https://colab.research.google.com/assets/colab-badge.svg\" alt=\"Open In Colab\"/></a>"
      ]
    },
    {
      "cell_type": "code",
      "metadata": {
        "id": "1LrjO6-7DNTr",
        "colab_type": "code",
        "outputId": "5f9ed552-8eba-4735-bafd-db906adae10c",
        "colab": {
          "base_uri": "https://localhost:8080/",
          "height": 34
        }
      },
      "source": [
        "l1=['a','b','c']\n",
        "x=['the'+i for i in l1]\n",
        "print(x)"
      ],
      "execution_count": 0,
      "outputs": [
        {
          "output_type": "stream",
          "text": [
            "['thea', 'theb', 'thec']\n"
          ],
          "name": "stdout"
        }
      ]
    },
    {
      "cell_type": "code",
      "metadata": {
        "id": "RrZCi8S2OwLN",
        "colab_type": "code",
        "colab": {}
      },
      "source": [
        ""
      ],
      "execution_count": 0,
      "outputs": []
    },
    {
      "cell_type": "code",
      "metadata": {
        "id": "JLTTvdeYD8R-",
        "colab_type": "code",
        "outputId": "17552386-9b35-4b5d-eec7-c2f3b00704c6",
        "colab": {
          "base_uri": "https://localhost:8080/",
          "height": 34
        }
      },
      "source": [
        "def add1(x):\n",
        "  return (x+3)\n",
        "l1=[1,2,4,5]\n",
        "x1=[add1(i) for i in l1]\n",
        "print(x1)"
      ],
      "execution_count": 0,
      "outputs": [
        {
          "output_type": "stream",
          "text": [
            "[4, 5, 7, 8]\n"
          ],
          "name": "stdout"
        }
      ]
    },
    {
      "cell_type": "code",
      "metadata": {
        "id": "YpDwPdioFxSV",
        "colab_type": "code",
        "outputId": "4a2d4e2f-1b8d-4e87-c207-e46d45896148",
        "colab": {
          "base_uri": "https://localhost:8080/",
          "height": 34
        }
      },
      "source": [
        "def add1(x):\n",
        "  return (x+3)\n",
        "l1=[1,2,4,5]\n",
        "x1=[i for i in l1]\n",
        "print(x1)"
      ],
      "execution_count": 0,
      "outputs": [
        {
          "output_type": "stream",
          "text": [
            "[1, 2, 4, 5]\n"
          ],
          "name": "stdout"
        }
      ]
    },
    {
      "cell_type": "code",
      "metadata": {
        "id": "6r_SlhiYGyTJ",
        "colab_type": "code",
        "outputId": "5586385d-923d-4657-c204-c1c38b3ad3ce",
        "colab": {
          "base_uri": "https://localhost:8080/",
          "height": 51
        }
      },
      "source": [
        "str='this is radical technologies'\n",
        "#l1=str.split()\n",
        "#l2=[]\n",
        "'''print(l1)\n",
        "for i in l1:\n",
        "  l2.append(len(i))\n",
        "print(l2)'''\n",
        "#x=[len(i) for i in str.split()]\n",
        "x1=[sorted(i,reverse=True) for i in str.split() ]\n",
        "x2=[i[: : -1] for i in str.split() ]\n",
        "print(x1)\n",
        "print(x2)"
      ],
      "execution_count": 0,
      "outputs": [
        {
          "output_type": "stream",
          "text": [
            "[['t', 's', 'i', 'h'], ['s', 'i'], ['r', 'l', 'i', 'd', 'c', 'a', 'a'], ['t', 's', 'o', 'o', 'n', 'l', 'i', 'h', 'g', 'e', 'e', 'c']]\n",
            "['siht', 'si', 'lacidar', 'seigolonhcet']\n"
          ],
          "name": "stdout"
        }
      ]
    },
    {
      "cell_type": "code",
      "metadata": {
        "id": "NNimWmTHLN1z",
        "colab_type": "code",
        "outputId": "919b5c57-35fd-4051-c116-46c23bc4f5c9",
        "colab": {
          "base_uri": "https://localhost:8080/",
          "height": 34
        }
      },
      "source": [
        "str='this is radical technologies'\n",
        "x=\" \".join([i[: : -1] for i in str.split() ])\n",
        "#x2=[i[: : -1] for i in str.split() ]\n",
        "print(x)\n",
        "#print(x2)"
      ],
      "execution_count": 0,
      "outputs": [
        {
          "output_type": "stream",
          "text": [
            "siht si lacidar seigolonhcet\n"
          ],
          "name": "stdout"
        }
      ]
    },
    {
      "cell_type": "code",
      "metadata": {
        "id": "gXX4zzVnJLji",
        "colab_type": "code",
        "outputId": "ecf54c87-568c-4a49-a2be-8a04ef9319d8",
        "colab": {
          "base_uri": "https://localhost:8080/",
          "height": 34
        }
      },
      "source": [
        "l1=[1,2,3,4,5,6]\n",
        "x=[i for i in l1 if((i%2)==0)]\n",
        "print(x)"
      ],
      "execution_count": 0,
      "outputs": [
        {
          "output_type": "stream",
          "text": [
            "[2, 4, 6]\n"
          ],
          "name": "stdout"
        }
      ]
    },
    {
      "cell_type": "code",
      "metadata": {
        "id": "ghfxg_OgMUz6",
        "colab_type": "code",
        "outputId": "2733aa50-60aa-4d59-9340-be34a014a288",
        "colab": {
          "base_uri": "https://localhost:8080/",
          "height": 34
        }
      },
      "source": [
        "str='thae is anice'\n",
        "str1='ae'\n",
        "x=[i for i in str.split() if(str1 in i)==False]\n",
        "x1=[i for i in str.split() if(('a' in i)==False and ('e' in i)==False)]\n",
        "print(x1)"
      ],
      "execution_count": 0,
      "outputs": [
        {
          "output_type": "stream",
          "text": [
            "['is']\n"
          ],
          "name": "stdout"
        }
      ]
    },
    {
      "cell_type": "code",
      "metadata": {
        "id": "YiI3E4KfSy6w",
        "colab_type": "code",
        "outputId": "dbf11fcb-b162-467c-970e-af9682cc29c0",
        "colab": {
          "base_uri": "https://localhost:8080/",
          "height": 34
        }
      },
      "source": [
        "str='this is'\n",
        "print(str.split('i'))"
      ],
      "execution_count": 0,
      "outputs": [
        {
          "output_type": "stream",
          "text": [
            "['th', 's ', 's']\n"
          ],
          "name": "stdout"
        }
      ]
    },
    {
      "cell_type": "code",
      "metadata": {
        "id": "cnf7nW7pTtTO",
        "colab_type": "code",
        "outputId": "be938179-cd35-4dc5-a96c-b0f44588bb43",
        "colab": {
          "base_uri": "https://localhost:8080/",
          "height": 34
        }
      },
      "source": [
        "str='this is radical technology'\n",
        "x=[len(i) for i in str.split() if (('a' in i) or ('e' in i) or ('i' in i) or ('o'in i) or ('u' in i))==True]\n",
        "print(x)"
      ],
      "execution_count": 0,
      "outputs": [
        {
          "output_type": "stream",
          "text": [
            "[4, 2, 7, 10]\n"
          ],
          "name": "stdout"
        }
      ]
    },
    {
      "cell_type": "code",
      "metadata": {
        "id": "O_LKnrrvWP8W",
        "colab_type": "code",
        "outputId": "773e8b40-17b2-4e5e-9d2d-10fe5b5452dd",
        "colab": {
          "base_uri": "https://localhost:8080/",
          "height": 34
        }
      },
      "source": [
        "str='this is radical technology'\n",
        "\n",
        "def count1(str):\n",
        "  x1=0\n",
        "  for i in range(0,len(str)):\n",
        "    if (str[i]=='a' or str[i]=='e' or str[i]=='i' or str[i]=='o' or str[i]=='u')==True:\n",
        "      x1=x1+1\n",
        "  return x1\n",
        "\n",
        "x=[count1(i) for i in str.split() if (('a' in i) or ('e' in i) or ('i' in i) or ('o'in i) or ('u' in i))==True]\n",
        "print(x)"
      ],
      "execution_count": 0,
      "outputs": [
        {
          "output_type": "stream",
          "text": [
            "[1, 1, 3, 3]\n"
          ],
          "name": "stdout"
        }
      ]
    },
    {
      "cell_type": "code",
      "metadata": {
        "id": "altq3AtMXPD4",
        "colab_type": "code",
        "outputId": "968c72d3-8c55-4549-d65e-864964051087",
        "colab": {
          "base_uri": "https://localhost:8080/",
          "height": 85
        }
      },
      "source": [
        "l1=[2,5,7,8]\n",
        "x=[print('even') if (i%2==0) else print('odd') for i in l1]"
      ],
      "execution_count": 0,
      "outputs": [
        {
          "output_type": "stream",
          "text": [
            "even\n",
            "odd\n",
            "odd\n",
            "even\n"
          ],
          "name": "stdout"
        }
      ]
    },
    {
      "cell_type": "code",
      "metadata": {
        "id": "5PdQwau4Yy1u",
        "colab_type": "code",
        "outputId": "ce6f7fc3-a52f-41e8-da58-01369ca762eb",
        "colab": {
          "base_uri": "https://localhost:8080/",
          "height": 34
        }
      },
      "source": [
        "l1=[2,5,7,8]\n",
        "x=[i*2 if (i%2==0) else i*i for i in l1]\n",
        "print(x)"
      ],
      "execution_count": 0,
      "outputs": [
        {
          "output_type": "stream",
          "text": [
            "[4, 25, 49, 16]\n"
          ],
          "name": "stdout"
        }
      ]
    },
    {
      "cell_type": "code",
      "metadata": {
        "id": "rXs7z7xXZdLd",
        "colab_type": "code",
        "outputId": "1f92ff83-b23d-476b-d6f7-a00a8e0a818f",
        "colab": {
          "base_uri": "https://localhost:8080/",
          "height": 34
        }
      },
      "source": [
        "l1=[[1],[2],[3]]\n",
        "x=[j for i in l1 for j in i]\n",
        "print(x)"
      ],
      "execution_count": 0,
      "outputs": [
        {
          "output_type": "stream",
          "text": [
            "[1, 2, 3]\n"
          ],
          "name": "stdout"
        }
      ]
    },
    {
      "cell_type": "code",
      "metadata": {
        "id": "ByMRJjyLbdGA",
        "colab_type": "code",
        "outputId": "6afae98b-dd40-464f-da3a-0317242e18ed",
        "colab": {
          "base_uri": "https://localhost:8080/",
          "height": 34
        }
      },
      "source": [
        "l1=[1,2,3]\n",
        "l2=[1,2,3]\n",
        "x=[ (l1[i] + l2[i]) for i in range(0,len(l1))]\n",
        "print(x)"
      ],
      "execution_count": 0,
      "outputs": [
        {
          "output_type": "stream",
          "text": [
            "[2, 4, 6]\n"
          ],
          "name": "stdout"
        }
      ]
    },
    {
      "cell_type": "code",
      "metadata": {
        "id": "q_-RgaAdeHps",
        "colab_type": "code",
        "outputId": "ab6dde41-0f2b-4c03-d783-8ee9650035ec",
        "colab": {
          "base_uri": "https://localhost:8080/",
          "height": 34
        }
      },
      "source": [
        "d1={'1':1,'2':2,'3':3}\n",
        "l1=list(d1.keys())\n",
        "l2=list(d1.values())\n",
        "x=[(i+1) for i in l2]\n",
        "d2=dict(zip(l1,x))\n",
        "print(d2)"
      ],
      "execution_count": 0,
      "outputs": [
        {
          "output_type": "stream",
          "text": [
            "{'1': 2, '2': 3, '3': 4}\n"
          ],
          "name": "stdout"
        }
      ]
    },
    {
      "cell_type": "code",
      "metadata": {
        "id": "VYfyW-gGg7ut",
        "colab_type": "code",
        "outputId": "579f80c8-df4a-4e43-8ec5-feac95ce9b3c",
        "colab": {
          "base_uri": "https://localhost:8080/",
          "height": 282
        }
      },
      "source": [
        "d1={'1':1,'2':2,'3':3}\n",
        "x=[d1.update({str(i):d1[i]+1}) for i in d1.keys()]\n",
        "print(d1)"
      ],
      "execution_count": 0,
      "outputs": [
        {
          "output_type": "error",
          "ename": "TypeError",
          "evalue": "ignored",
          "traceback": [
            "\u001b[0;31m---------------------------------------------------------------------------\u001b[0m",
            "\u001b[0;31mTypeError\u001b[0m                                 Traceback (most recent call last)",
            "\u001b[0;32m<ipython-input-62-69c18e92b90e>\u001b[0m in \u001b[0;36m<module>\u001b[0;34m()\u001b[0m\n\u001b[1;32m      1\u001b[0m \u001b[0md1\u001b[0m\u001b[0;34m=\u001b[0m\u001b[0;34m{\u001b[0m\u001b[0;34m'1'\u001b[0m\u001b[0;34m:\u001b[0m\u001b[0;36m1\u001b[0m\u001b[0;34m,\u001b[0m\u001b[0;34m'2'\u001b[0m\u001b[0;34m:\u001b[0m\u001b[0;36m2\u001b[0m\u001b[0;34m,\u001b[0m\u001b[0;34m'3'\u001b[0m\u001b[0;34m:\u001b[0m\u001b[0;36m3\u001b[0m\u001b[0;34m}\u001b[0m\u001b[0;34m\u001b[0m\u001b[0;34m\u001b[0m\u001b[0m\n\u001b[0;32m----> 2\u001b[0;31m \u001b[0mx\u001b[0m\u001b[0;34m=\u001b[0m\u001b[0;34m[\u001b[0m\u001b[0md1\u001b[0m\u001b[0;34m.\u001b[0m\u001b[0mupdate\u001b[0m\u001b[0;34m(\u001b[0m\u001b[0;34m{\u001b[0m\u001b[0mstr\u001b[0m\u001b[0;34m(\u001b[0m\u001b[0mi\u001b[0m\u001b[0;34m)\u001b[0m\u001b[0;34m:\u001b[0m\u001b[0md1\u001b[0m\u001b[0;34m[\u001b[0m\u001b[0mi\u001b[0m\u001b[0;34m]\u001b[0m\u001b[0;34m+\u001b[0m\u001b[0;36m1\u001b[0m\u001b[0;34m}\u001b[0m\u001b[0;34m)\u001b[0m \u001b[0;32mfor\u001b[0m \u001b[0mi\u001b[0m \u001b[0;32min\u001b[0m \u001b[0md1\u001b[0m\u001b[0;34m.\u001b[0m\u001b[0mkeys\u001b[0m\u001b[0;34m(\u001b[0m\u001b[0;34m)\u001b[0m\u001b[0;34m]\u001b[0m\u001b[0;34m\u001b[0m\u001b[0;34m\u001b[0m\u001b[0m\n\u001b[0m\u001b[1;32m      3\u001b[0m \u001b[0mprint\u001b[0m\u001b[0;34m(\u001b[0m\u001b[0md1\u001b[0m\u001b[0;34m)\u001b[0m\u001b[0;34m\u001b[0m\u001b[0;34m\u001b[0m\u001b[0m\n",
            "\u001b[0;32m<ipython-input-62-69c18e92b90e>\u001b[0m in \u001b[0;36m<listcomp>\u001b[0;34m(.0)\u001b[0m\n\u001b[1;32m      1\u001b[0m \u001b[0md1\u001b[0m\u001b[0;34m=\u001b[0m\u001b[0;34m{\u001b[0m\u001b[0;34m'1'\u001b[0m\u001b[0;34m:\u001b[0m\u001b[0;36m1\u001b[0m\u001b[0;34m,\u001b[0m\u001b[0;34m'2'\u001b[0m\u001b[0;34m:\u001b[0m\u001b[0;36m2\u001b[0m\u001b[0;34m,\u001b[0m\u001b[0;34m'3'\u001b[0m\u001b[0;34m:\u001b[0m\u001b[0;36m3\u001b[0m\u001b[0;34m}\u001b[0m\u001b[0;34m\u001b[0m\u001b[0;34m\u001b[0m\u001b[0m\n\u001b[0;32m----> 2\u001b[0;31m \u001b[0mx\u001b[0m\u001b[0;34m=\u001b[0m\u001b[0;34m[\u001b[0m\u001b[0md1\u001b[0m\u001b[0;34m.\u001b[0m\u001b[0mupdate\u001b[0m\u001b[0;34m(\u001b[0m\u001b[0;34m{\u001b[0m\u001b[0mstr\u001b[0m\u001b[0;34m(\u001b[0m\u001b[0mi\u001b[0m\u001b[0;34m)\u001b[0m\u001b[0;34m:\u001b[0m\u001b[0md1\u001b[0m\u001b[0;34m[\u001b[0m\u001b[0mi\u001b[0m\u001b[0;34m]\u001b[0m\u001b[0;34m+\u001b[0m\u001b[0;36m1\u001b[0m\u001b[0;34m}\u001b[0m\u001b[0;34m)\u001b[0m \u001b[0;32mfor\u001b[0m \u001b[0mi\u001b[0m \u001b[0;32min\u001b[0m \u001b[0md1\u001b[0m\u001b[0;34m.\u001b[0m\u001b[0mkeys\u001b[0m\u001b[0;34m(\u001b[0m\u001b[0;34m)\u001b[0m\u001b[0;34m]\u001b[0m\u001b[0;34m\u001b[0m\u001b[0;34m\u001b[0m\u001b[0m\n\u001b[0m\u001b[1;32m      3\u001b[0m \u001b[0mprint\u001b[0m\u001b[0;34m(\u001b[0m\u001b[0md1\u001b[0m\u001b[0;34m)\u001b[0m\u001b[0;34m\u001b[0m\u001b[0;34m\u001b[0m\u001b[0m\n",
            "\u001b[0;31mTypeError\u001b[0m: 'str' object is not callable"
          ]
        }
      ]
    },
    {
      "cell_type": "code",
      "metadata": {
        "id": "uU6Zyfa8OzHl",
        "colab_type": "code",
        "colab": {
          "base_uri": "https://localhost:8080/",
          "height": 129
        },
        "outputId": "88494106-7eca-49a8-a265-91240663c916"
      },
      "source": [
        "def sum(a,b):\n",
        "  return(a+b)\n",
        "\n",
        "print(sum(2,3))"
      ],
      "execution_count": 2,
      "outputs": [
        {
          "output_type": "error",
          "ename": "IndentationError",
          "evalue": "ignored",
          "traceback": [
            "\u001b[0;36m  File \u001b[0;32m\"<ipython-input-2-c0a215aa6c47>\"\u001b[0;36m, line \u001b[0;32m4\u001b[0m\n\u001b[0;31m    print(sum(2,3))\u001b[0m\n\u001b[0m        ^\u001b[0m\n\u001b[0;31mIndentationError\u001b[0m\u001b[0;31m:\u001b[0m expected an indented block\n"
          ]
        }
      ]
    },
    {
      "cell_type": "code",
      "metadata": {
        "id": "ptIsF9w5PS-8",
        "colab_type": "code",
        "colab": {
          "base_uri": "https://localhost:8080/",
          "height": 68
        },
        "outputId": "6afa7c4a-68de-40e0-ea35-205489157d08"
      },
      "source": [
        "def sum(a,b):\n",
        "  return(a+b)\n",
        "\n",
        "a=sum\n",
        "print(a(5,6))\n",
        "print(type(sum(2,3)))\n",
        "\n",
        "del sum\n",
        "\n",
        "#print(sum(4,5))\n",
        "print(a(5,6))\n",
        "\n"
      ],
      "execution_count": 8,
      "outputs": [
        {
          "output_type": "stream",
          "text": [
            "11\n",
            "<class 'int'>\n",
            "11\n"
          ],
          "name": "stdout"
        }
      ]
    },
    {
      "cell_type": "code",
      "metadata": {
        "id": "t_gQlDk6QtUn",
        "colab_type": "code",
        "colab": {}
      },
      "source": [
        "def add1(x=3,y=4,z=6):\n",
        "  return(x+y+z)\n",
        "\n",
        "print(add1())\n",
        "print(add1(7))\n",
        "print(add1(7,z=8))"
      ],
      "execution_count": 0,
      "outputs": []
    },
    {
      "cell_type": "code",
      "metadata": {
        "id": "qLtjDi2rSVEU",
        "colab_type": "code",
        "colab": {
          "base_uri": "https://localhost:8080/",
          "height": 34
        },
        "outputId": "aa16f051-b778-42a0-b03a-cff00f9c5b94"
      },
      "source": [
        "def add1(x=3,y=4,z=6):\n",
        "  return(x+y+z)\n",
        "\n",
        "def apply1(fn,x,y,z):\n",
        "  return(fn(x,y,z))\n",
        "\n",
        "print(apply1(add1,3,4,5))"
      ],
      "execution_count": 12,
      "outputs": [
        {
          "output_type": "stream",
          "text": [
            "12\n"
          ],
          "name": "stdout"
        }
      ]
    },
    {
      "cell_type": "code",
      "metadata": {
        "id": "KporYuzZUAXS",
        "colab_type": "code",
        "colab": {
          "base_uri": "https://localhost:8080/",
          "height": 34
        },
        "outputId": "e4bb51cd-f321-4b84-819e-6144c24669d4"
      },
      "source": [
        "f=lambda x,y: x+y\n",
        "print(f(2,4))"
      ],
      "execution_count": 13,
      "outputs": [
        {
          "output_type": "stream",
          "text": [
            "6\n"
          ],
          "name": "stdout"
        }
      ]
    },
    {
      "cell_type": "code",
      "metadata": {
        "id": "48gGrDszUstj",
        "colab_type": "code",
        "colab": {
          "base_uri": "https://localhost:8080/",
          "height": 34
        },
        "outputId": "63cf89d0-af6b-4e54-b26b-d7380f85ec21"
      },
      "source": [
        "f=(lambda x,y: x+y) (3,4)\n",
        "print(f)"
      ],
      "execution_count": 14,
      "outputs": [
        {
          "output_type": "stream",
          "text": [
            "7\n"
          ],
          "name": "stdout"
        }
      ]
    },
    {
      "cell_type": "code",
      "metadata": {
        "id": "8nuDqrfzVMED",
        "colab_type": "code",
        "colab": {
          "base_uri": "https://localhost:8080/",
          "height": 34
        },
        "outputId": "50fd3aba-f5a6-40f3-aad4-3e1053d5fa74"
      },
      "source": [
        "def outterfn(x):\n",
        "  def innerfn():  #this is called closure,conditions for closure are there sud be 2 functions outter and inner function,outer function is passed as varaible.\n",
        "    print(x)     #the inner function will not have any parameter\n",
        "  return innerfn\n",
        "\n",
        "myfn=outterfn(7)\n",
        "myfn()"
      ],
      "execution_count": 22,
      "outputs": [
        {
          "output_type": "stream",
          "text": [
            "7\n"
          ],
          "name": "stdout"
        }
      ]
    },
    {
      "cell_type": "code",
      "metadata": {
        "id": "SKFRk68ZXLvW",
        "colab_type": "code",
        "colab": {
          "base_uri": "https://localhost:8080/",
          "height": 68
        },
        "outputId": "37ef660e-2185-47dc-f8a0-0f0a9867d3ee"
      },
      "source": [
        "def decor(fn):\n",
        "  def wrap():\n",
        "    print('adc')  #this is called decorators\n",
        "    fn()\n",
        "    print('acccs')\n",
        "  return wrap\n",
        "\n",
        "def sayhello():\n",
        "  print('hello')\n",
        "\n",
        "nwfn=decor(sayhello)\n",
        "nwfn()"
      ],
      "execution_count": 23,
      "outputs": [
        {
          "output_type": "stream",
          "text": [
            "adc\n",
            "hello\n",
            "acccs\n"
          ],
          "name": "stdout"
        }
      ]
    },
    {
      "cell_type": "code",
      "metadata": {
        "id": "Qk26Y7C9ech3",
        "colab_type": "code",
        "colab": {
          "base_uri": "https://localhost:8080/",
          "height": 51
        },
        "outputId": "1a268c8d-43d9-4727-b05f-68094be331a8"
      },
      "source": [
        "@decor # pie syntax\n",
        "def div(i,j):\n",
        "  return(i/j)\n",
        "\n",
        "def decor(fn):\n",
        "  def wrap(a,b):\n",
        "    if (b==0):\n",
        "      print('cannot be 0')\n",
        "      return\n",
        "    else:\n",
        "      return fn(a,b)\n",
        "  return wrap\n",
        "\n",
        "print(div(2,0))"
      ],
      "execution_count": 32,
      "outputs": [
        {
          "output_type": "stream",
          "text": [
            "cannot be 0\n",
            "None\n"
          ],
          "name": "stdout"
        }
      ]
    },
    {
      "cell_type": "code",
      "metadata": {
        "id": "a9V5_oIpjABx",
        "colab_type": "code",
        "colab": {
          "base_uri": "https://localhost:8080/",
          "height": 34
        },
        "outputId": "56e582fa-c35f-4ad2-b0ce-429819106385"
      },
      "source": [
        "def square(x):\n",
        "  return(x*x)\n",
        "\n",
        "sq_lst=list(map(square,[2,3,4,5,6]))\n",
        "print(sq_lst)"
      ],
      "execution_count": 34,
      "outputs": [
        {
          "output_type": "stream",
          "text": [
            "[4, 9, 16, 25, 36]\n"
          ],
          "name": "stdout"
        }
      ]
    },
    {
      "cell_type": "code",
      "metadata": {
        "id": "msyqWSX5kA5Q",
        "colab_type": "code",
        "colab": {
          "base_uri": "https://localhost:8080/",
          "height": 34
        },
        "outputId": "9fe51aa3-6f43-43d3-c1a3-fb5455fbbf0a"
      },
      "source": [
        "\n",
        "sq_lst=list(map(lambda x:x*x,[2,3,4,5,6]))\n",
        "print(sq_lst)"
      ],
      "execution_count": 35,
      "outputs": [
        {
          "output_type": "stream",
          "text": [
            "[4, 9, 16, 25, 36]\n"
          ],
          "name": "stdout"
        }
      ]
    },
    {
      "cell_type": "code",
      "metadata": {
        "id": "zT4Mhah3kh_A",
        "colab_type": "code",
        "colab": {
          "base_uri": "https://localhost:8080/",
          "height": 34
        },
        "outputId": "1b3d66a2-75e6-460e-c12a-5ed6c5320b0b"
      },
      "source": [
        "sq_lst=list(map(lambda x,y:x*y,[2,3,4,5,6],[4,5,6,7,8]))\n",
        "print(sq_lst)"
      ],
      "execution_count": 38,
      "outputs": [
        {
          "output_type": "stream",
          "text": [
            "[8, 15, 24, 35, 48]\n"
          ],
          "name": "stdout"
        }
      ]
    },
    {
      "cell_type": "code",
      "metadata": {
        "id": "NDWfRpOgl7UY",
        "colab_type": "code",
        "colab": {
          "base_uri": "https://localhost:8080/",
          "height": 34
        },
        "outputId": "4d01172b-adba-4a99-ce60-defa2e00c8f2"
      },
      "source": [
        "ovr_65=list(filter(lambda x: x>65,[23,60,74,75,80]))\n",
        "print(ovr_65)"
      ],
      "execution_count": 47,
      "outputs": [
        {
          "output_type": "stream",
          "text": [
            "[74, 75, 80]\n"
          ],
          "name": "stdout"
        }
      ]
    },
    {
      "cell_type": "code",
      "metadata": {
        "id": "yKdOh-zkn52f",
        "colab_type": "code",
        "colab": {
          "base_uri": "https://localhost:8080/",
          "height": 34
        },
        "outputId": "2716bc38-a119-4d72-eeb8-c5c76dacd060"
      },
      "source": [
        "from functools import *\n",
        "def do_sum(x1,x2):\n",
        "  return x1+x2\n",
        "lst=[1,2,3,45]\n",
        "print(reduce(do_sum,lst,10))"
      ],
      "execution_count": 61,
      "outputs": [
        {
          "output_type": "stream",
          "text": [
            "61\n"
          ],
          "name": "stdout"
        }
      ]
    },
    {
      "cell_type": "code",
      "metadata": {
        "id": "4KqsUrsfqg63",
        "colab_type": "code",
        "colab": {
          "base_uri": "https://localhost:8080/",
          "height": 34
        },
        "outputId": "d0ff328d-1e4d-4a02-df72-bbd4dfdf4f33"
      },
      "source": [
        "lst=[1,2,3,45]\n",
        "print(reduce(lambda x,y:x+y,lst,10))"
      ],
      "execution_count": 62,
      "outputs": [
        {
          "output_type": "stream",
          "text": [
            "61\n"
          ],
          "name": "stdout"
        }
      ]
    },
    {
      "cell_type": "code",
      "metadata": {
        "id": "i9fbzmpuo_Ee",
        "colab_type": "code",
        "colab": {}
      },
      "source": [
        ""
      ],
      "execution_count": 0,
      "outputs": []
    }
  ]
}